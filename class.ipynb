{
 "cells": [
  {
   "cell_type": "code",
   "execution_count": 1,
   "metadata": {},
   "outputs": [],
   "source": [
    "import array"
   ]
  },
  {
   "cell_type": "code",
   "execution_count": 2,
   "metadata": {},
   "outputs": [
    {
     "name": "stdout",
     "output_type": "stream",
     "text": [
      "__name__\n",
      "__doc__\n",
      "__package__\n",
      "__loader__\n",
      "__spec__\n",
      "_array_reconstructor\n",
      "__file__\n",
      "ArrayType\n",
      "array\n",
      "typecodes\n"
     ]
    }
   ],
   "source": [
    "for n in array.__dict__:\n",
    "    print(n)"
   ]
  },
  {
   "cell_type": "code",
   "execution_count": 3,
   "metadata": {},
   "outputs": [],
   "source": [
    "import pandas as pd"
   ]
  },
  {
   "cell_type": "code",
   "execution_count": 4,
   "metadata": {},
   "outputs": [
    {
     "name": "stdout",
     "output_type": "stream",
     "text": [
      "__name__\n",
      "__doc__\n",
      "__package__\n",
      "__loader__\n",
      "__spec__\n",
      "__path__\n",
      "__file__\n",
      "__cached__\n",
      "__builtins__\n",
      "__docformat__\n",
      "_typing\n",
      "compat\n",
      "_np_version_under1p16\n",
      "_np_version_under1p17\n",
      "_np_version_under1p18\n",
      "_is_numpy_dev\n",
      "_config\n",
      "_libs\n",
      "_hashtable\n",
      "_lib\n",
      "_tslib\n",
      "get_option\n",
      "set_option\n",
      "reset_option\n",
      "describe_option\n",
      "option_context\n",
      "options\n",
      "core\n",
      "pandas\n",
      "errors\n",
      "util\n",
      "io\n",
      "tseries\n",
      "arrays\n",
      "plotting\n",
      "Int8Dtype\n",
      "Int16Dtype\n",
      "Int32Dtype\n",
      "Int64Dtype\n",
      "UInt8Dtype\n",
      "UInt16Dtype\n",
      "UInt32Dtype\n",
      "UInt64Dtype\n",
      "CategoricalDtype\n",
      "PeriodDtype\n",
      "IntervalDtype\n",
      "DatetimeTZDtype\n",
      "StringDtype\n",
      "BooleanDtype\n",
      "NA\n",
      "isna\n",
      "isnull\n",
      "notna\n",
      "notnull\n",
      "Index\n",
      "CategoricalIndex\n",
      "Int64Index\n",
      "UInt64Index\n",
      "RangeIndex\n",
      "Float64Index\n",
      "MultiIndex\n",
      "IntervalIndex\n",
      "TimedeltaIndex\n",
      "DatetimeIndex\n",
      "PeriodIndex\n",
      "IndexSlice\n",
      "NaT\n",
      "Period\n",
      "period_range\n",
      "Timedelta\n",
      "timedelta_range\n",
      "Timestamp\n",
      "date_range\n",
      "bdate_range\n",
      "Interval\n",
      "interval_range\n",
      "DateOffset\n",
      "to_numeric\n",
      "to_datetime\n",
      "to_timedelta\n",
      "Grouper\n",
      "factorize\n",
      "unique\n",
      "value_counts\n",
      "NamedAgg\n",
      "array\n",
      "Categorical\n",
      "set_eng_float_format\n",
      "Series\n",
      "DataFrame\n",
      "SparseDtype\n",
      "infer_freq\n",
      "offsets\n",
      "eval\n",
      "concat\n",
      "lreshape\n",
      "melt\n",
      "wide_to_long\n",
      "merge\n",
      "merge_asof\n",
      "merge_ordered\n",
      "crosstab\n",
      "pivot\n",
      "pivot_table\n",
      "get_dummies\n",
      "cut\n",
      "qcut\n",
      "api\n",
      "show_versions\n",
      "ExcelFile\n",
      "ExcelWriter\n",
      "read_excel\n",
      "read_csv\n",
      "read_fwf\n",
      "read_table\n",
      "read_pickle\n",
      "to_pickle\n",
      "HDFStore\n",
      "read_hdf\n",
      "read_sql\n",
      "read_sql_query\n",
      "read_sql_table\n",
      "read_clipboard\n",
      "read_parquet\n",
      "read_orc\n",
      "read_feather\n",
      "read_gbq\n",
      "read_html\n",
      "read_json\n",
      "read_stata\n",
      "read_sas\n",
      "read_spss\n",
      "json_normalize\n",
      "test\n",
      "_testing\n",
      "testing\n",
      "_version\n",
      "__version__\n",
      "__git_version__\n",
      "Panel\n",
      "SparseDataFrame\n",
      "SparseSeries\n",
      "__numpy\n",
      "np\n",
      "__Datetime\n",
      "__DatetimeSub\n",
      "datetime\n",
      "__SparseArray\n",
      "__SparseArraySub\n",
      "SparseArray\n"
     ]
    }
   ],
   "source": [
    "for d in pd.__dict__:\n",
    "    print(d)"
   ]
  },
  {
   "cell_type": "code",
   "execution_count": 5,
   "metadata": {},
   "outputs": [],
   "source": [
    "class py_name:\n",
    "    def subsest(self,sset):\n",
    "        return self.subsetRecur([],sorted(sset))\n",
    "    \n",
    "    def subsetRecur(self,current,sset):\n",
    "        if sset:\n",
    "            return self.subsetRecur(current,sset[1:]) + self.subsetRecur(current + [sset[0]],sset[1:])\n",
    "        return current\n",
    "        "
   ]
  },
  {
   "cell_type": "code",
   "execution_count": 6,
   "metadata": {},
   "outputs": [
    {
     "data": {
      "text/plain": [
       "['__module__', 'subsest', 'subsetRecur', '__dict__', '__weakref__', '__doc__']"
      ]
     },
     "execution_count": 6,
     "metadata": {},
     "output_type": "execute_result"
    }
   ],
   "source": [
    "[name for name in py_name.__dict__]"
   ]
  },
  {
   "cell_type": "code",
   "execution_count": 7,
   "metadata": {},
   "outputs": [],
   "source": [
    "class Student:\n",
    "    def __init__(self,student_id,name,class_name):\n",
    "        self.id=student_id\n",
    "        self.name=name\n",
    "        self.standard=class_name\n",
    "\n"
   ]
  },
  {
   "cell_type": "code",
   "execution_count": 8,
   "metadata": {},
   "outputs": [],
   "source": [
    "st=Student(3,'Praveen','Final')"
   ]
  },
  {
   "cell_type": "code",
   "execution_count": 9,
   "metadata": {},
   "outputs": [
    {
     "name": "stdout",
     "output_type": "stream",
     "text": [
      "3\n"
     ]
    }
   ],
   "source": [
    "print(st.id)"
   ]
  },
  {
   "cell_type": "code",
   "execution_count": 10,
   "metadata": {},
   "outputs": [
    {
     "data": {
      "text/plain": [
       "{'id': 3, 'name': 'Praveen', 'standard': 'Final'}"
      ]
     },
     "execution_count": 10,
     "metadata": {},
     "output_type": "execute_result"
    }
   ],
   "source": [
    "st.__dict__"
   ]
  },
  {
   "cell_type": "code",
   "execution_count": 11,
   "metadata": {},
   "outputs": [
    {
     "data": {
      "text/plain": [
       "mappingproxy({'__module__': '__main__',\n",
       "              '__init__': <function __main__.Student.__init__(self, student_id, name, class_name)>,\n",
       "              '__dict__': <attribute '__dict__' of 'Student' objects>,\n",
       "              '__weakref__': <attribute '__weakref__' of 'Student' objects>,\n",
       "              '__doc__': None})"
      ]
     },
     "execution_count": 11,
     "metadata": {},
     "output_type": "execute_result"
    }
   ],
   "source": [
    "Student.__dict__"
   ]
  },
  {
   "cell_type": "code",
   "execution_count": 12,
   "metadata": {},
   "outputs": [],
   "source": [
    "import builtins"
   ]
  },
  {
   "cell_type": "code",
   "execution_count": 13,
   "metadata": {},
   "outputs": [
    {
     "data": {
      "text/plain": [
       "<function abs(x, /)>"
      ]
     },
     "execution_count": 13,
     "metadata": {},
     "output_type": "execute_result"
    }
   ],
   "source": [
    "builtins.abs"
   ]
  },
  {
   "cell_type": "code",
   "execution_count": 14,
   "metadata": {},
   "outputs": [
    {
     "name": "stdout",
     "output_type": "stream",
     "text": [
      "Help on built-in function abs in module builtins:\n",
      "\n",
      "abs(x, /)\n",
      "    Return the absolute value of the argument.\n",
      "\n"
     ]
    }
   ],
   "source": [
    "help(builtins.abs)"
   ]
  },
  {
   "cell_type": "code",
   "execution_count": 15,
   "metadata": {},
   "outputs": [
    {
     "name": "stdout",
     "output_type": "stream",
     "text": [
      "155\n"
     ]
    }
   ],
   "source": [
    "print(builtins.abs(-155))"
   ]
  },
  {
   "cell_type": "code",
   "execution_count": 16,
   "metadata": {},
   "outputs": [],
   "source": [
    "def stuDent(nid,name,clas):\n",
    "    return {'Student_id':nid,'Student Name': name,'Class Name': clas}\n"
   ]
  },
  {
   "cell_type": "code",
   "execution_count": 17,
   "metadata": {},
   "outputs": [
    {
     "name": "stdout",
     "output_type": "stream",
     "text": [
      "{'Student_id': 33, 'Student Name': 'Praveen', 'Class Name': 12}\n"
     ]
    }
   ],
   "source": [
    "print(stuDent(33,'Praveen',12))"
   ]
  },
  {
   "cell_type": "code",
   "execution_count": 18,
   "metadata": {},
   "outputs": [],
   "source": [
    "def studentData(s_id,**kwargs):\n",
    "    print(f\"Student ID is {s_id}\")\n",
    "    if 's_name' in kwargs:\n",
    "        print(f\"Student name is {kwargs['s_name']}\")\n",
    "    if 's_class' in kwargs:\n",
    "        print(f\"Student Class is {kwargs['s_class']}\")"
   ]
  },
  {
   "cell_type": "code",
   "execution_count": 19,
   "metadata": {},
   "outputs": [
    {
     "name": "stdout",
     "output_type": "stream",
     "text": [
      "Student ID is 3\n",
      "Student Class is Fift\n"
     ]
    }
   ],
   "source": [
    "studentData(3,s_class='Fift')"
   ]
  },
  {
   "cell_type": "code",
   "execution_count": 20,
   "metadata": {},
   "outputs": [
    {
     "data": {
      "text/plain": [
       "mappingproxy({'__module__': '__main__',\n",
       "              '__init__': <function __main__.Student.__init__(self, student_id, name, class_name)>,\n",
       "              '__dict__': <attribute '__dict__' of 'Student' objects>,\n",
       "              '__weakref__': <attribute '__weakref__' of 'Student' objects>,\n",
       "              '__doc__': None})"
      ]
     },
     "execution_count": 20,
     "metadata": {},
     "output_type": "execute_result"
    }
   ],
   "source": [
    "Student.__dict__"
   ]
  },
  {
   "cell_type": "code",
   "execution_count": 21,
   "metadata": {},
   "outputs": [
    {
     "data": {
      "text/plain": [
       "dict_keys(['__module__', '__init__', '__dict__', '__weakref__', '__doc__'])"
      ]
     },
     "execution_count": 21,
     "metadata": {},
     "output_type": "execute_result"
    }
   ],
   "source": [
    "Student.__dict__.keys()"
   ]
  },
  {
   "cell_type": "code",
   "execution_count": 22,
   "metadata": {},
   "outputs": [
    {
     "data": {
      "text/plain": [
       "'__main__'"
      ]
     },
     "execution_count": 22,
     "metadata": {},
     "output_type": "execute_result"
    }
   ],
   "source": [
    "Student.__module__"
   ]
  },
  {
   "cell_type": "code",
   "execution_count": 23,
   "metadata": {},
   "outputs": [],
   "source": [
    "Student.__doc__"
   ]
  },
  {
   "cell_type": "code",
   "execution_count": 24,
   "metadata": {},
   "outputs": [],
   "source": [
    "class Stu:\n",
    "    pass\n",
    "class Marks:\n",
    "    pass\n",
    "\n",
    "s=Stu()\n",
    "m=Marks()"
   ]
  },
  {
   "cell_type": "code",
   "execution_count": 25,
   "metadata": {},
   "outputs": [
    {
     "data": {
      "text/plain": [
       "<__main__.Stu at 0x7f5c58e0cd30>"
      ]
     },
     "execution_count": 25,
     "metadata": {},
     "output_type": "execute_result"
    }
   ],
   "source": [
    "s"
   ]
  },
  {
   "cell_type": "code",
   "execution_count": 26,
   "metadata": {},
   "outputs": [
    {
     "data": {
      "text/plain": [
       "<__main__.Marks at 0x7f5c58e0cc88>"
      ]
     },
     "execution_count": 26,
     "metadata": {},
     "output_type": "execute_result"
    }
   ],
   "source": [
    "m"
   ]
  },
  {
   "cell_type": "code",
   "execution_count": 27,
   "metadata": {},
   "outputs": [
    {
     "data": {
      "text/plain": [
       "__main__.Marks"
      ]
     },
     "execution_count": 27,
     "metadata": {},
     "output_type": "execute_result"
    }
   ],
   "source": [
    "type(m)"
   ]
  },
  {
   "cell_type": "code",
   "execution_count": 28,
   "metadata": {},
   "outputs": [
    {
     "name": "stdout",
     "output_type": "stream",
     "text": [
      "<class '__main__.Marks'>\n"
     ]
    }
   ],
   "source": [
    "print(type(m))"
   ]
  },
  {
   "cell_type": "code",
   "execution_count": 30,
   "metadata": {},
   "outputs": [
    {
     "data": {
      "text/plain": [
       "True"
      ]
     },
     "execution_count": 30,
     "metadata": {},
     "output_type": "execute_result"
    }
   ],
   "source": [
    "isinstance(m,Marks)"
   ]
  },
  {
   "cell_type": "code",
   "execution_count": 31,
   "metadata": {},
   "outputs": [
    {
     "data": {
      "text/plain": [
       "mappingproxy({'__module__': '__main__',\n",
       "              '__dict__': <attribute '__dict__' of 'Marks' objects>,\n",
       "              '__weakref__': <attribute '__weakref__' of 'Marks' objects>,\n",
       "              '__doc__': None})"
      ]
     },
     "execution_count": 31,
     "metadata": {},
     "output_type": "execute_result"
    }
   ],
   "source": [
    "Marks.__dict__.items()"
   ]
  },
  {
   "cell_type": "code",
   "execution_count": 32,
   "metadata": {},
   "outputs": [
    {
     "data": {
      "text/plain": [
       "dict_items([('__module__', '__main__'), ('__dict__', <attribute '__dict__' of 'Marks' objects>), ('__weakref__', <attribute '__weakref__' of 'Marks' objects>), ('__doc__', None)])"
      ]
     },
     "execution_count": 32,
     "metadata": {},
     "output_type": "execute_result"
    }
   ],
   "source": [
    "Marks.__dict__.items()"
   ]
  },
  {
   "cell_type": "code",
   "execution_count": 35,
   "metadata": {},
   "outputs": [],
   "source": [
    "class Std:\n",
    "    student_name='Praveen'\n",
    "    marks=100\n",
    "    def __init__(self):\n",
    "        print(f\"Studdent name is {self.student_name}\\nStudent Marks are {self.marks}\")\n",
    "        \n",
    "    \n",
    "        "
   ]
  },
  {
   "cell_type": "code",
   "execution_count": 36,
   "metadata": {},
   "outputs": [
    {
     "name": "stdout",
     "output_type": "stream",
     "text": [
      "Studdent name is Praveen\n",
      "Student Marks are 100\n"
     ]
    }
   ],
   "source": [
    "s=Std()"
   ]
  },
  {
   "cell_type": "code",
   "execution_count": 37,
   "metadata": {},
   "outputs": [],
   "source": [
    "s.student_name='Beniwal'"
   ]
  },
  {
   "cell_type": "code",
   "execution_count": 38,
   "metadata": {},
   "outputs": [
    {
     "name": "stdout",
     "output_type": "stream",
     "text": [
      "Beniwal\n"
     ]
    }
   ],
   "source": [
    "print(s.student_name)"
   ]
  },
  {
   "cell_type": "code",
   "execution_count": 65,
   "metadata": {},
   "outputs": [],
   "source": [
    "class Studnt:\n",
    "    student_id='vi'\n",
    "    student_name='ghanta'\n",
    "    def __init__(self):\n",
    "        print(f\"Orginally we have studend ent id as {self.student_id} & name as {self.student_name}\")\n",
    "        \n",
    "    def aattr_display(self):\n",
    "        print([i for i in Studnt.__dict__.items()])\n",
    "    "
   ]
  },
  {
   "cell_type": "code",
   "execution_count": 40,
   "metadata": {},
   "outputs": [
    {
     "name": "stdout",
     "output_type": "stream",
     "text": [
      "Orginally we have studend ent id as vi & name as ghanta\n"
     ]
    }
   ],
   "source": [
    "s=Studnt()"
   ]
  },
  {
   "cell_type": "code",
   "execution_count": 59,
   "metadata": {},
   "outputs": [
    {
     "data": {
      "text/plain": [
       "[('__module__', '__main__'),\n",
       " ('student_id', 'vi'),\n",
       " ('student_name', 'ghanta'),\n",
       " ('__init__', <function __main__.Studnt.__init__(self)>),\n",
       " ('__dict__', <attribute '__dict__' of 'Studnt' objects>),\n",
       " ('__weakref__', <attribute '__weakref__' of 'Studnt' objects>),\n",
       " ('__doc__', None),\n",
       " ('student_class', 'v'),\n",
       " ('stdnt_class', 'x')]"
      ]
     },
     "execution_count": 59,
     "metadata": {},
     "output_type": "execute_result"
    }
   ],
   "source": [
    "[i for i in Studnt.__dict__.items()]"
   ]
  },
  {
   "cell_type": "code",
   "execution_count": 55,
   "metadata": {},
   "outputs": [],
   "source": [
    "Studnt.student_class = 'v'"
   ]
  },
  {
   "cell_type": "code",
   "execution_count": 58,
   "metadata": {},
   "outputs": [],
   "source": [
    "Studnt.stdnt_class = 'x'"
   ]
  },
  {
   "cell_type": "code",
   "execution_count": 60,
   "metadata": {},
   "outputs": [],
   "source": [
    "del Studnt.student_name"
   ]
  },
  {
   "cell_type": "code",
   "execution_count": 64,
   "metadata": {},
   "outputs": [
    {
     "data": {
      "text/plain": [
       "[('__module__', '__main__'),\n",
       " ('student_id', 'vi'),\n",
       " ('__init__', <function __main__.Studnt.__init__(self)>),\n",
       " ('__dict__', <attribute '__dict__' of 'Studnt' objects>),\n",
       " ('__weakref__', <attribute '__weakref__' of 'Studnt' objects>),\n",
       " ('__doc__', None),\n",
       " ('student_class', 'v'),\n",
       " ('stdnt_class', 'x')]"
      ]
     },
     "execution_count": 64,
     "metadata": {},
     "output_type": "execute_result"
    }
   ],
   "source": [
    "[i for i in Studnt.__dict__.items()]"
   ]
  },
  {
   "cell_type": "code",
   "execution_count": 66,
   "metadata": {},
   "outputs": [
    {
     "name": "stdout",
     "output_type": "stream",
     "text": [
      "Orginally we have studend ent id as vi & name as ghanta\n"
     ]
    }
   ],
   "source": [
    "s=Studnt()"
   ]
  },
  {
   "cell_type": "code",
   "execution_count": 67,
   "metadata": {},
   "outputs": [
    {
     "name": "stdout",
     "output_type": "stream",
     "text": [
      "[('__module__', '__main__'), ('student_id', 'vi'), ('student_name', 'ghanta'), ('__init__', <function Studnt.__init__ at 0x7f5c57de5ae8>), ('aattr_display', <function Studnt.aattr_display at 0x7f5c57de51e0>), ('__dict__', <attribute '__dict__' of 'Studnt' objects>), ('__weakref__', <attribute '__weakref__' of 'Studnt' objects>), ('__doc__', None)]\n"
     ]
    }
   ],
   "source": [
    "s.aattr_display()"
   ]
  },
  {
   "cell_type": "code",
   "execution_count": 68,
   "metadata": {},
   "outputs": [],
   "source": [
    "class Stude:\n",
    "    school='Jnvk'\n",
    "    address='Jhajjar'\n"
   ]
  },
  {
   "cell_type": "code",
   "execution_count": 70,
   "metadata": {},
   "outputs": [],
   "source": [
    "student_1=Stude()\n"
   ]
  },
  {
   "cell_type": "code",
   "execution_count": 71,
   "metadata": {},
   "outputs": [],
   "source": [
    "student_2=Stude()"
   ]
  },
  {
   "cell_type": "code",
   "execution_count": 72,
   "metadata": {},
   "outputs": [],
   "source": [
    "student_1.name=\"Ernesto Mendez\"\n"
   ]
  },
  {
   "cell_type": "code",
   "execution_count": 73,
   "metadata": {},
   "outputs": [],
   "source": [
    "student_1.id=\"10\""
   ]
  },
  {
   "cell_type": "code",
   "execution_count": 74,
   "metadata": {},
   "outputs": [],
   "source": [
    "student_2.stu_name=\"Beni\"\n"
   ]
  },
  {
   "cell_type": "code",
   "execution_count": 75,
   "metadata": {},
   "outputs": [],
   "source": [
    "student_2.id=\"11\""
   ]
  },
  {
   "cell_type": "code",
   "execution_count": 76,
   "metadata": {},
   "outputs": [],
   "source": [
    "student_2.marks_language = 85\n",
    "student_2.marks_science = 93\n",
    "student_2.marks_math = 95"
   ]
  },
  {
   "cell_type": "code",
   "execution_count": 77,
   "metadata": {},
   "outputs": [
    {
     "name": "stdout",
     "output_type": "stream",
     "text": [
      "***\n",
      "Attr is name and value is Ernesto Mendez\n",
      "Attr is id and value is 10\n",
      "***\n",
      "Attr is stu_name and value is Beni\n",
      "Attr is id and value is 11\n",
      "Attr is marks_language and value is 85\n",
      "Attr is marks_science and value is 93\n",
      "Attr is marks_math and value is 95\n"
     ]
    }
   ],
   "source": [
    "for stu in [student_1,student_2]:\n",
    "    print(\"***\")\n",
    "    for attr in stu.__dict__:\n",
    "        print(f\"Attr is {attr} and value is {getattr(stu,attr)}\")"
   ]
  },
  {
   "cell_type": "code",
   "execution_count": 85,
   "metadata": {},
   "outputs": [
    {
     "name": "stdout",
     "output_type": "stream",
     "text": [
      "Enter the stringPraveen\n"
     ]
    },
    {
     "data": {
      "text/plain": [
       "'neevarP'"
      ]
     },
     "execution_count": 85,
     "metadata": {},
     "output_type": "execute_result"
    }
   ],
   "source": [
    "str1=input(\"Enter the string\")\n",
    "''.join(reversed([i for i in str1]))"
   ]
  },
  {
   "cell_type": "code",
   "execution_count": 97,
   "metadata": {},
   "outputs": [],
   "source": [
    "class IOString:\n",
    "    def __init__(self):\n",
    "        self.str1=''\n",
    "    def getStr(self):\n",
    "        self.str1=input()\n",
    "    def prStr(self):\n",
    "        print(self.str1.upper())"
   ]
  },
  {
   "cell_type": "code",
   "execution_count": 98,
   "metadata": {},
   "outputs": [],
   "source": [
    "i=IOString()"
   ]
  },
  {
   "cell_type": "code",
   "execution_count": 99,
   "metadata": {},
   "outputs": [
    {
     "name": "stdout",
     "output_type": "stream",
     "text": [
      "Praveen Singh Beniwal TOra Tora only\n"
     ]
    }
   ],
   "source": [
    "i.getStr()"
   ]
  },
  {
   "cell_type": "code",
   "execution_count": 100,
   "metadata": {},
   "outputs": [
    {
     "name": "stdout",
     "output_type": "stream",
     "text": [
      "PRAVEEN SINGH BENIWAL TORA TORA ONLY\n"
     ]
    }
   ],
   "source": [
    "i.prStr()"
   ]
  },
  {
   "cell_type": "code",
   "execution_count": null,
   "metadata": {},
   "outputs": [],
   "source": []
  }
 ],
 "metadata": {
  "kernelspec": {
   "display_name": "Python [conda env:praveen_tfu]",
   "language": "python",
   "name": "conda-env-praveen_tfu-py"
  },
  "language_info": {
   "codemirror_mode": {
    "name": "ipython",
    "version": 3
   },
   "file_extension": ".py",
   "mimetype": "text/x-python",
   "name": "python",
   "nbconvert_exporter": "python",
   "pygments_lexer": "ipython3",
   "version": "3.6.8"
  }
 },
 "nbformat": 4,
 "nbformat_minor": 4
}
