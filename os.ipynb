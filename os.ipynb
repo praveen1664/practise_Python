{
 "cells": [
  {
   "cell_type": "code",
   "execution_count": 2,
   "metadata": {},
   "outputs": [],
   "source": [
    "import os"
   ]
  },
  {
   "cell_type": "code",
   "execution_count": 3,
   "metadata": {},
   "outputs": [
    {
     "data": {
      "text/plain": [
       "('.',\n",
       " 8,\n",
       " 'posix',\n",
       " ['.ipynb_checkpoints',\n",
       "  '1.ipynb',\n",
       "  'letters',\n",
       "  'words1.txt',\n",
       "  'p2.txt',\n",
       "  'abc.txt',\n",
       "  'let',\n",
       "  'let1',\n",
       "  'ak.txt',\n",
       "  'ak',\n",
       "  'Untitled.ipynb',\n",
       "  'os.ipynb',\n",
       "  're.ipynb',\n",
       "  'logfile',\n",
       "  'program.ipynb',\n",
       "  'class.ipynb',\n",
       "  'tf.ipynb',\n",
       "  'pract.ipynb',\n",
       "  'prac2.ipynb',\n",
       "  'prac5.ipynb',\n",
       "  'test1.txt',\n",
       "  'richida',\n",
       "  'gog'],\n",
       " <generator object walk at 0x7f525c10d200>)"
      ]
     },
     "execution_count": 3,
     "metadata": {},
     "output_type": "execute_result"
    }
   ],
   "source": [
    "os.curdir,os.cpu_count(),os.name,os.listdir(),os.walk(os.getcwd())"
   ]
  },
  {
   "cell_type": "code",
   "execution_count": 4,
   "metadata": {},
   "outputs": [
    {
     "name": "stdout",
     "output_type": "stream",
     "text": [
      "path is \n",
      " /app1/jupyter/p28/Study/python_practice\n",
      "Dirnames are \n",
      " ['.ipynb_checkpoints', 'letters', 'let', 'let1', 'richida']\n",
      "file in /app1/jupyter/p28/Study/python_practice\n",
      " are ['1.ipynb', 'words1.txt', 'p2.txt', 'abc.txt', 'ak.txt', 'ak', 'Untitled.ipynb', 'os.ipynb', 're.ipynb', 'logfile', 'program.ipynb', 'class.ipynb', 'tf.ipynb', 'pract.ipynb', 'prac2.ipynb', 'prac5.ipynb', 'test1.txt', 'gog']\n",
      "path is \n",
      " /app1/jupyter/p28/Study/python_practice/.ipynb_checkpoints\n",
      "Dirnames are \n",
      " []\n",
      "file in /app1/jupyter/p28/Study/python_practice/.ipynb_checkpoints\n",
      " are ['1-checkpoint.ipynb', 'Untitled-checkpoint.ipynb', 'os-checkpoint.ipynb', 're-checkpoint.ipynb', 'program-checkpoint.ipynb', 'class-checkpoint.ipynb', 'tf-checkpoint.ipynb', 'pract-checkpoint.ipynb', 'prac2-checkpoint.ipynb', 'prac5-checkpoint.ipynb']\n",
      "path is \n",
      " /app1/jupyter/p28/Study/python_practice/letters\n",
      "Dirnames are \n",
      " []\n",
      "file in /app1/jupyter/p28/Study/python_practice/letters\n",
      " are ['A.txt', 'B.txt', 'C.txt', 'D.txt', 'E.txt', 'F.txt', 'G.txt', 'H.txt', 'I.txt', 'J.txt', 'K.txt', 'L.txt', 'M.txt', 'N.txt', 'O.txt', 'P.txt', 'Q.txt', 'R.txt', 'S.txt', 'T.txt', 'U.txt', 'V.txt', 'W.txt', 'X.txt', 'Y.txt', 'Z.txt']\n",
      "path is \n",
      " /app1/jupyter/p28/Study/python_practice/let\n",
      "Dirnames are \n",
      " []\n",
      "file in /app1/jupyter/p28/Study/python_practice/let\n",
      " are ['A.txt', 'B.txt', 'C.txt', 'D.txt', 'E.txt', 'F.txt', 'G.txt', 'H.txt', 'I.txt', 'J.txt', 'K.txt', 'L.txt', 'M.txt', 'N.txt', 'O.txt', 'P.txt', 'Q.txt', 'R.txt', 'S.txt', 'T.txt', 'U.txt', 'V.txt', 'W.txt', 'X.txt', 'Y.txt', 'Z.txt']\n",
      "path is \n",
      " /app1/jupyter/p28/Study/python_practice/let1\n",
      "Dirnames are \n",
      " []\n",
      "file in /app1/jupyter/p28/Study/python_practice/let1\n",
      " are ['A.txt', 'B.txt', 'C.txt', 'D.txt', 'E.txt', 'F.txt', 'G.txt', 'H.txt', 'I.txt', 'J.txt', 'K.txt', 'L.txt', 'M.txt', 'N.txt', 'O.txt', 'P.txt', 'Q.txt', 'R.txt', 'S.txt', 'T.txt', 'U.txt', 'V.txt', 'W.txt', 'X.txt', 'Y.txt', 'Z.txt']\n",
      "path is \n",
      " /app1/jupyter/p28/Study/python_practice/richida\n",
      "Dirnames are \n",
      " []\n",
      "file in /app1/jupyter/p28/Study/python_practice/richida\n",
      " are ['A.txt', 'B.txt', 'C.txt', 'D.txt', 'E.txt', 'F.txt', 'G.txt', 'H.txt', 'I.txt', 'J.txt', 'K.txt', 'L.txt', 'M.txt', 'N.txt', 'O.txt', 'P.txt', 'Q.txt', 'R.txt', 'S.txt', 'T.txt', 'U.txt', 'V.txt', 'W.txt', 'X.txt', 'Y.txt', 'Z.txt']\n"
     ]
    }
   ],
   "source": [
    "for path,dirname,files in os.walk(os.getcwd()):\n",
    "    print(f'path is \\n {path}')\n",
    "    print(f'Dirnames are \\n {dirname}')\n",
    "    print(f'file in {path}\\n are {files}')"
   ]
  },
  {
   "cell_type": "code",
   "execution_count": 5,
   "metadata": {},
   "outputs": [],
   "source": [
    "import os\n",
    "import pathlib\n"
   ]
  },
  {
   "cell_type": "code",
   "execution_count": 6,
   "metadata": {},
   "outputs": [],
   "source": [
    "PATH=pathlib.Path(os.getcwd())"
   ]
  },
  {
   "cell_type": "code",
   "execution_count": 7,
   "metadata": {},
   "outputs": [
    {
     "data": {
      "text/plain": [
       "PosixPath('/app1/jupyter/p28/Study/python_practice')"
      ]
     },
     "execution_count": 7,
     "metadata": {},
     "output_type": "execute_result"
    }
   ],
   "source": [
    "PATH"
   ]
  },
  {
   "cell_type": "code",
   "execution_count": 8,
   "metadata": {},
   "outputs": [
    {
     "name": "stdout",
     "output_type": "stream",
     "text": [
      "All contents ['.ipynb_checkpoints', '1.ipynb', 'letters', 'words1.txt', 'p2.txt', 'abc.txt', 'let', 'let1', 'ak.txt', 'ak', 'Untitled.ipynb', 'os.ipynb', 're.ipynb', 'logfile', 'program.ipynb', 'class.ipynb', 'tf.ipynb', 'pract.ipynb', 'prac2.ipynb', 'prac5.ipynb', 'test1.txt', 'richida', 'gog']\n"
     ]
    }
   ],
   "source": [
    "    print(f'All contents {[name for name in os.listdir(PATH)]}')"
   ]
  },
  {
   "cell_type": "code",
   "execution_count": 9,
   "metadata": {},
   "outputs": [
    {
     "name": "stdout",
     "output_type": "stream",
     "text": [
      "Only Dir ['.ipynb_checkpoints', 'letters', 'let', 'let1', 'richida']\n"
     ]
    }
   ],
   "source": [
    "print(f'Only Dir {[name for name in os.listdir(PATH) if os.path.isdir(os.path.join(PATH,name))]}')"
   ]
  },
  {
   "cell_type": "code",
   "execution_count": 10,
   "metadata": {},
   "outputs": [
    {
     "data": {
      "text/plain": [
       "['1.ipynb',\n",
       " 'words1.txt',\n",
       " 'p2.txt',\n",
       " 'abc.txt',\n",
       " 'ak.txt',\n",
       " 'ak',\n",
       " 'Untitled.ipynb',\n",
       " 'os.ipynb',\n",
       " 're.ipynb',\n",
       " 'logfile',\n",
       " 'program.ipynb',\n",
       " 'class.ipynb',\n",
       " 'tf.ipynb',\n",
       " 'pract.ipynb',\n",
       " 'prac2.ipynb',\n",
       " 'prac5.ipynb',\n",
       " 'test1.txt',\n",
       " 'gog']"
      ]
     },
     "execution_count": 10,
     "metadata": {},
     "output_type": "execute_result"
    }
   ],
   "source": [
    "[name for name in os.listdir(PATH) if os.path.isfile(os.path.join(PATH,name))]"
   ]
  },
  {
   "cell_type": "code",
   "execution_count": 11,
   "metadata": {},
   "outputs": [],
   "source": [
    "k=[name for name in os.scandir(pathlib.Path(os.getcwd())) if name.is_file() and os.access(name,os.EX_OK)]"
   ]
  },
  {
   "cell_type": "code",
   "execution_count": 12,
   "metadata": {},
   "outputs": [
    {
     "data": {
      "text/plain": [
       "[<DirEntry '1.ipynb'>,\n",
       " <DirEntry 'words1.txt'>,\n",
       " <DirEntry 'p2.txt'>,\n",
       " <DirEntry 'abc.txt'>,\n",
       " <DirEntry 'ak.txt'>,\n",
       " <DirEntry 'ak'>,\n",
       " <DirEntry 'Untitled.ipynb'>,\n",
       " <DirEntry 'os.ipynb'>,\n",
       " <DirEntry 're.ipynb'>,\n",
       " <DirEntry 'logfile'>,\n",
       " <DirEntry 'program.ipynb'>,\n",
       " <DirEntry 'class.ipynb'>,\n",
       " <DirEntry 'tf.ipynb'>,\n",
       " <DirEntry 'pract.ipynb'>,\n",
       " <DirEntry 'prac2.ipynb'>,\n",
       " <DirEntry 'prac5.ipynb'>,\n",
       " <DirEntry 'test1.txt'>,\n",
       " <DirEntry 'gog'>]"
      ]
     },
     "execution_count": 12,
     "metadata": {},
     "output_type": "execute_result"
    }
   ],
   "source": [
    "k"
   ]
  },
  {
   "cell_type": "code",
   "execution_count": 13,
   "metadata": {},
   "outputs": [
    {
     "data": {
      "text/plain": [
       "posix.uname_result(sysname='Linux', nodename='rn000019852', release='3.10.0-1160.76.1.el7.x86_64', version='#1 SMP Tue Jul 26 14:15:37 UTC 2022', machine='x86_64')"
      ]
     },
     "execution_count": 13,
     "metadata": {},
     "output_type": "execute_result"
    }
   ],
   "source": [
    "os.uname()"
   ]
  },
  {
   "cell_type": "code",
   "execution_count": 14,
   "metadata": {},
   "outputs": [],
   "source": [
    "import os"
   ]
  },
  {
   "cell_type": "code",
   "execution_count": 15,
   "metadata": {},
   "outputs": [
    {
     "ename": "SyntaxError",
     "evalue": "unexpected EOF while parsing (<ipython-input-15-5a1b2ba48a1a>, line 11)",
     "output_type": "error",
     "traceback": [
      "\u001b[0;36m  File \u001b[0;32m\"<ipython-input-15-5a1b2ba48a1a>\"\u001b[0;36m, line \u001b[0;32m11\u001b[0m\n\u001b[0;31m    \u001b[0m\n\u001b[0m    ^\u001b[0m\n\u001b[0;31mSyntaxError\u001b[0m\u001b[0;31m:\u001b[0m unexpected EOF while parsing\n"
     ]
    }
   ],
   "source": [
    "def chid():\n",
    "    print(f\"This is a new child {os.getpid()}\")\n",
    "    os._exit(0)\n",
    "def parent():\n",
    "    while True:\n",
    "        newpid=od.fork()\n",
    "        if newpid == 0:\n",
    "            child()\n",
    "        else:\n",
    "            \n",
    "        "
   ]
  },
  {
   "cell_type": "code",
   "execution_count": 16,
   "metadata": {},
   "outputs": [],
   "source": [
    "import platform"
   ]
  },
  {
   "cell_type": "code",
   "execution_count": 17,
   "metadata": {},
   "outputs": [],
   "source": [
    "if platform.system() == 'Windows':\n",
    "    import msvrct\n",
    "    "
   ]
  },
  {
   "cell_type": "code",
   "execution_count": 18,
   "metadata": {},
   "outputs": [],
   "source": [
    "import os"
   ]
  },
  {
   "cell_type": "code",
   "execution_count": 26,
   "metadata": {},
   "outputs": [
    {
     "data": {
      "text/plain": [
       "'/app1/anaconda3/envs/praveen_tfu/lib/python3.6'"
      ]
     },
     "execution_count": 26,
     "metadata": {},
     "output_type": "execute_result"
    }
   ],
   "source": [
    "os.path.dirname(os.__file__)"
   ]
  },
  {
   "cell_type": "code",
   "execution_count": 27,
   "metadata": {},
   "outputs": [
    {
     "data": {
      "text/plain": [
       "'/app1/anaconda3/envs/praveen_tfu/lib/python3.6/os.py'"
      ]
     },
     "execution_count": 27,
     "metadata": {},
     "output_type": "execute_result"
    }
   ],
   "source": [
    "os.__file__"
   ]
  },
  {
   "cell_type": "code",
   "execution_count": 29,
   "metadata": {},
   "outputs": [
    {
     "data": {
      "text/plain": [
       "['__name__',\n",
       " '__doc__',\n",
       " '__package__',\n",
       " '__loader__',\n",
       " '__spec__',\n",
       " '__file__',\n",
       " '__cached__',\n",
       " '__builtins__',\n",
       " 'abc',\n",
       " 'sys',\n",
       " 'errno',\n",
       " 'st',\n",
       " '__all__',\n",
       " '_exists',\n",
       " '_get_exports_list',\n",
       " 'name',\n",
       " 'linesep',\n",
       " 'stat',\n",
       " 'access',\n",
       " 'ttyname',\n",
       " 'chdir',\n",
       " 'chmod',\n",
       " 'fchmod',\n",
       " 'chown',\n",
       " 'fchown',\n",
       " 'lchown',\n",
       " 'chroot',\n",
       " 'ctermid',\n",
       " 'getcwd',\n",
       " 'getcwdb',\n",
       " 'link',\n",
       " 'listdir',\n",
       " 'lstat',\n",
       " 'mkdir',\n",
       " 'nice',\n",
       " 'getpriority',\n",
       " 'setpriority',\n",
       " 'readlink',\n",
       " 'rename',\n",
       " 'replace',\n",
       " 'rmdir',\n",
       " 'stat_float_times',\n",
       " 'symlink',\n",
       " 'system',\n",
       " 'umask',\n",
       " 'uname',\n",
       " 'unlink',\n",
       " 'remove',\n",
       " 'utime',\n",
       " 'times',\n",
       " 'execv',\n",
       " 'execve',\n",
       " 'fork',\n",
       " 'sched_get_priority_max',\n",
       " 'sched_get_priority_min',\n",
       " 'sched_getparam',\n",
       " 'sched_getscheduler',\n",
       " 'sched_rr_get_interval',\n",
       " 'sched_setparam',\n",
       " 'sched_setscheduler',\n",
       " 'sched_yield',\n",
       " 'sched_setaffinity',\n",
       " 'sched_getaffinity',\n",
       " 'openpty',\n",
       " 'forkpty',\n",
       " 'getegid',\n",
       " 'geteuid',\n",
       " 'getgid',\n",
       " 'getgrouplist',\n",
       " 'getgroups',\n",
       " 'getpid',\n",
       " 'getpgrp',\n",
       " 'getppid',\n",
       " 'getuid',\n",
       " 'getlogin',\n",
       " 'kill',\n",
       " 'killpg',\n",
       " 'setuid',\n",
       " 'seteuid',\n",
       " 'setreuid',\n",
       " 'setgid',\n",
       " 'setegid',\n",
       " 'setregid',\n",
       " 'setgroups',\n",
       " 'initgroups',\n",
       " 'getpgid',\n",
       " 'setpgrp',\n",
       " 'wait',\n",
       " 'wait3',\n",
       " 'wait4',\n",
       " 'waitid',\n",
       " 'waitpid',\n",
       " 'getsid',\n",
       " 'setsid',\n",
       " 'setpgid',\n",
       " 'tcgetpgrp',\n",
       " 'tcsetpgrp',\n",
       " 'open',\n",
       " 'close',\n",
       " 'closerange',\n",
       " 'device_encoding',\n",
       " 'dup',\n",
       " 'dup2',\n",
       " 'lockf',\n",
       " 'lseek',\n",
       " 'read',\n",
       " 'readv',\n",
       " 'pread',\n",
       " 'write',\n",
       " 'writev',\n",
       " 'pwrite',\n",
       " 'sendfile',\n",
       " 'fstat',\n",
       " 'isatty',\n",
       " 'pipe',\n",
       " 'pipe2',\n",
       " 'mkfifo',\n",
       " 'mknod',\n",
       " 'major',\n",
       " 'minor',\n",
       " 'makedev',\n",
       " 'ftruncate',\n",
       " 'truncate',\n",
       " 'posix_fallocate',\n",
       " 'posix_fadvise',\n",
       " 'putenv',\n",
       " 'unsetenv',\n",
       " 'strerror',\n",
       " 'fchdir',\n",
       " 'fsync',\n",
       " 'sync',\n",
       " 'fdatasync',\n",
       " 'WCOREDUMP',\n",
       " 'WIFCONTINUED',\n",
       " 'WIFSTOPPED',\n",
       " 'WIFSIGNALED',\n",
       " 'WIFEXITED',\n",
       " 'WEXITSTATUS',\n",
       " 'WTERMSIG',\n",
       " 'WSTOPSIG',\n",
       " 'fstatvfs',\n",
       " 'statvfs',\n",
       " 'confstr',\n",
       " 'sysconf',\n",
       " 'fpathconf',\n",
       " 'pathconf',\n",
       " 'abort',\n",
       " 'getloadavg',\n",
       " 'urandom',\n",
       " 'setresuid',\n",
       " 'setresgid',\n",
       " 'getresuid',\n",
       " 'getresgid',\n",
       " 'getxattr',\n",
       " 'setxattr',\n",
       " 'removexattr',\n",
       " 'listxattr',\n",
       " 'get_terminal_size',\n",
       " 'cpu_count',\n",
       " 'get_inheritable',\n",
       " 'set_inheritable',\n",
       " 'get_blocking',\n",
       " 'set_blocking',\n",
       " 'scandir',\n",
       " 'fspath',\n",
       " 'environ',\n",
       " 'F_OK',\n",
       " 'R_OK',\n",
       " 'W_OK',\n",
       " 'X_OK',\n",
       " 'NGROUPS_MAX',\n",
       " 'TMP_MAX',\n",
       " 'WCONTINUED',\n",
       " 'WNOHANG',\n",
       " 'WUNTRACED',\n",
       " 'O_RDONLY',\n",
       " 'O_WRONLY',\n",
       " 'O_RDWR',\n",
       " 'O_NDELAY',\n",
       " 'O_NONBLOCK',\n",
       " 'O_APPEND',\n",
       " 'O_DSYNC',\n",
       " 'O_RSYNC',\n",
       " 'O_SYNC',\n",
       " 'O_NOCTTY',\n",
       " 'O_CREAT',\n",
       " 'O_EXCL',\n",
       " 'O_TRUNC',\n",
       " 'O_LARGEFILE',\n",
       " 'PRIO_PROCESS',\n",
       " 'PRIO_PGRP',\n",
       " 'PRIO_USER',\n",
       " 'O_CLOEXEC',\n",
       " 'O_ACCMODE',\n",
       " 'O_ASYNC',\n",
       " 'O_DIRECT',\n",
       " 'O_DIRECTORY',\n",
       " 'O_NOFOLLOW',\n",
       " 'O_NOATIME',\n",
       " 'EX_OK',\n",
       " 'EX_USAGE',\n",
       " 'EX_DATAERR',\n",
       " 'EX_NOINPUT',\n",
       " 'EX_NOUSER',\n",
       " 'EX_NOHOST',\n",
       " 'EX_UNAVAILABLE',\n",
       " 'EX_SOFTWARE',\n",
       " 'EX_OSERR',\n",
       " 'EX_OSFILE',\n",
       " 'EX_CANTCREAT',\n",
       " 'EX_IOERR',\n",
       " 'EX_TEMPFAIL',\n",
       " 'EX_PROTOCOL',\n",
       " 'EX_NOPERM',\n",
       " 'EX_CONFIG',\n",
       " 'ST_RDONLY',\n",
       " 'ST_NOSUID',\n",
       " 'ST_NODEV',\n",
       " 'ST_NOEXEC',\n",
       " 'ST_SYNCHRONOUS',\n",
       " 'ST_MANDLOCK',\n",
       " 'ST_WRITE',\n",
       " 'ST_APPEND',\n",
       " 'ST_NOATIME',\n",
       " 'ST_NODIRATIME',\n",
       " 'ST_RELATIME',\n",
       " 'POSIX_FADV_NORMAL',\n",
       " 'POSIX_FADV_SEQUENTIAL',\n",
       " 'POSIX_FADV_RANDOM',\n",
       " 'POSIX_FADV_NOREUSE',\n",
       " 'POSIX_FADV_WILLNEED',\n",
       " 'POSIX_FADV_DONTNEED',\n",
       " 'P_PID',\n",
       " 'P_PGID',\n",
       " 'P_ALL',\n",
       " 'WEXITED',\n",
       " 'WNOWAIT',\n",
       " 'WSTOPPED',\n",
       " 'CLD_EXITED',\n",
       " 'CLD_DUMPED',\n",
       " 'CLD_TRAPPED',\n",
       " 'CLD_CONTINUED',\n",
       " 'F_LOCK',\n",
       " 'F_TLOCK',\n",
       " 'F_ULOCK',\n",
       " 'F_TEST',\n",
       " 'SCHED_OTHER',\n",
       " 'SCHED_FIFO',\n",
       " 'SCHED_RR',\n",
       " 'SCHED_BATCH',\n",
       " 'SCHED_IDLE',\n",
       " 'SCHED_RESET_ON_FORK',\n",
       " 'XATTR_CREATE',\n",
       " 'XATTR_REPLACE',\n",
       " 'XATTR_SIZE_MAX',\n",
       " 'RTLD_LAZY',\n",
       " 'RTLD_NOW',\n",
       " 'RTLD_GLOBAL',\n",
       " 'RTLD_LOCAL',\n",
       " 'RTLD_NODELETE',\n",
       " 'RTLD_NOLOAD',\n",
       " 'RTLD_DEEPBIND',\n",
       " 'pathconf_names',\n",
       " 'confstr_names',\n",
       " 'sysconf_names',\n",
       " 'error',\n",
       " 'waitid_result',\n",
       " 'stat_result',\n",
       " 'statvfs_result',\n",
       " 'sched_param',\n",
       " 'times_result',\n",
       " 'uname_result',\n",
       " 'terminal_size',\n",
       " 'DirEntry',\n",
       " '_exit',\n",
       " 'path',\n",
       " 'curdir',\n",
       " 'pardir',\n",
       " 'sep',\n",
       " 'pathsep',\n",
       " 'defpath',\n",
       " 'extsep',\n",
       " 'altsep',\n",
       " 'devnull',\n",
       " 'supports_dir_fd',\n",
       " 'supports_effective_ids',\n",
       " 'supports_fd',\n",
       " 'supports_follow_symlinks',\n",
       " 'SEEK_SET',\n",
       " 'SEEK_CUR',\n",
       " 'SEEK_END',\n",
       " 'makedirs',\n",
       " 'removedirs',\n",
       " 'renames',\n",
       " 'walk',\n",
       " 'fwalk',\n",
       " '_fwalk',\n",
       " 'execl',\n",
       " 'execle',\n",
       " 'execlp',\n",
       " 'execlpe',\n",
       " 'execvp',\n",
       " 'execvpe',\n",
       " '_execvpe',\n",
       " 'get_exec_path',\n",
       " 'MutableMapping',\n",
       " '_Environ',\n",
       " '_putenv',\n",
       " '_unsetenv',\n",
       " 'getenv',\n",
       " 'supports_bytes_environ',\n",
       " 'environb',\n",
       " 'getenvb',\n",
       " 'fsencode',\n",
       " 'fsdecode',\n",
       " 'P_WAIT',\n",
       " 'P_NOWAIT',\n",
       " 'P_NOWAITO',\n",
       " '_spawnvef',\n",
       " 'spawnv',\n",
       " 'spawnve',\n",
       " 'spawnvp',\n",
       " 'spawnvpe',\n",
       " 'spawnl',\n",
       " 'spawnle',\n",
       " 'spawnlp',\n",
       " 'spawnlpe',\n",
       " 'popen',\n",
       " '_wrap_close',\n",
       " 'fdopen',\n",
       " '_fspath',\n",
       " 'PathLike']"
      ]
     },
     "execution_count": 29,
     "metadata": {},
     "output_type": "execute_result"
    }
   ],
   "source": [
    "os.__dir__()"
   ]
  },
  {
   "cell_type": "code",
   "execution_count": 30,
   "metadata": {},
   "outputs": [
    {
     "data": {
      "text/plain": [
       "'/app1/jupyter/p28/Study/python_practice'"
      ]
     },
     "execution_count": 30,
     "metadata": {},
     "output_type": "execute_result"
    }
   ],
   "source": [
    "os.getcwd()"
   ]
  },
  {
   "cell_type": "code",
   "execution_count": 32,
   "metadata": {},
   "outputs": [
    {
     "data": {
      "text/plain": [
       "'/app1/anaconda3/envs/praveen_tfu/lib/python3.6/os.py'"
      ]
     },
     "execution_count": 32,
     "metadata": {},
     "output_type": "execute_result"
    }
   ],
   "source": [
    "os.path.realpath(os.__file__)"
   ]
  },
  {
   "cell_type": "code",
   "execution_count": 35,
   "metadata": {},
   "outputs": [
    {
     "data": {
      "text/plain": [
       "'/app1/anaconda3/envs/praveen_tfu/lib/python3.6'"
      ]
     },
     "execution_count": 35,
     "metadata": {},
     "output_type": "execute_result"
    }
   ],
   "source": [
    "os.path.realpath(os.path.dirname(os.__file__))"
   ]
  },
  {
   "cell_type": "code",
   "execution_count": null,
   "metadata": {},
   "outputs": [],
   "source": []
  }
 ],
 "metadata": {
  "kernelspec": {
   "display_name": "Python [conda env:praveen_tfu]",
   "language": "python",
   "name": "conda-env-praveen_tfu-py"
  },
  "language_info": {
   "codemirror_mode": {
    "name": "ipython",
    "version": 3
   },
   "file_extension": ".py",
   "mimetype": "text/x-python",
   "name": "python",
   "nbconvert_exporter": "python",
   "pygments_lexer": "ipython3",
   "version": "3.6.8"
  }
 },
 "nbformat": 4,
 "nbformat_minor": 4
}
