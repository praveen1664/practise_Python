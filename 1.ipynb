{
 "cells": [
  {
   "cell_type": "code",
   "execution_count": 1,
   "metadata": {},
   "outputs": [
    {
     "name": "stdout",
     "output_type": "stream",
     "text": [
      "Writing p2.txt\n"
     ]
    }
   ],
   "source": [
    "%%writefile p2.txt\n",
    "What is Python language?                                                \n",
    "Python is a widely used high-level, general-purpose, interpreted, dynamic programming language.Its design philosophy emphasizes code readability, and its syntax allows programmers to express concepts in fewer lines of code than possible in \n",
    "languages such as C++ or Java. \n",
    "Python supports multiple programming paradigms, including object-oriented, imperative and functional programming or procedural styles. It features a dynamic type system and automatic memory management and has a large and comprehensive standard library.The best way we learn anything is by practice and exercise questions. We  have started this section for those (beginner to intermediate) who are familiar with Python.\n",
    "Sample Solution:-\n",
    "\n",
    "Python Code:\n",
    "\n",
    "def file_read(fname):\n",
    "        txt = open(fname)\n",
    "        print(txt.read())\n",
    "\n",
    "file_read('test.txt')\n",
    "\n",
    "Sample Output:\n",
    "\n",
    "Welcome to w3resource.com.                                                                                    \n",
    "Append this text.Append this text.Append this text.                                                           \n",
    "Append this text.                                                                                             \n",
    "Append this text.                                                                                             \n",
    "Append this text.                                                                                             \n",
    "Append this text. \n",
    "Flowchart:\n",
    "\n",
    "Flowchart: File I/O:  Read an entire text file.\n",
    "Python Code Editor:\n",
    "\n",
    "\n",
    "Have another way to solve this solution? Contribute your code (and comments) through Disqus.\n",
    "\n",
    "Previous: File Exercises Home.\n",
    "Next: Write a Python program to read first n lines of a file.\n",
    "\n",
    "What is the difficulty level of this exercise?\n",
    "\n",
    "EASY MEDIUM HARD\n",
    "Based on 678 votes, average difficulty level of this exercise is Easy .\n",
    "Test your Python skills with w3resource's quiz\n",
    "\n",
    "﻿\n",
    "\n",
    " \n",
    "Python: Tips of the Day\n",
    "Use a dictionary to store a switch:\n",
    "\n",
    ">>> func_dict = {'sum': lambda x, y: x + y, 'subtract': lambda x, y: x - y}\n",
    ">>> func_dict['sum'](9,3)\n",
    "12\n",
    ">>> func_dict['subtract'](9,3)\n",
    "6\n",
    "New Content published on w3resource:\n",
    "Scala Programming Exercises, Practice, Solution\n",
    "Python Itertools exercises\n",
    "Python Numpy exercises\n",
    "Python GeoPy Package exercises\n",
    "Python Pandas exercises\n",
    "Python nltk exercises\n",
    "Python BeautifulSoup exercises\n",
    "Form Template\n",
    "Composer - PHP Package Manager\n",
    "PHPUnit - PHP Testing\n",
    "Laravel - PHP Framework\n",
    "Angular - JavaScript Framework\n",
    "Vue - JavaScript Framework\n",
    "Jest - JavaScript Testing Framework\n",
    "by TaboolaSponsored LinksYou May Like\n",
    "Cancer Patients Who Used Zantac May Be Compensated\n",
    "National Injury Bureau\n",
    "Distracted Remote Team? Fix That with These 6 Tips\n",
    "Lucidspark\n",
    "The Actual Cost of Tub to Shower Conversion May Surprise You.\n",
    "Mad City Showers\n",
    "Minnesota: Warm Up Chilly Rooms While Slashing Your Electric Bill By 30%\n",
    "Top Deals Post\n",
    "Think Testosterone is the Answer? Mike Tyson Says \"Think again\"\n",
    "Mike Tyson's IM-21\n",
    "These Top-Of-The-Line Luxury SUVs Are Shockingly Affordable\n",
    "Luxury SUV Savings\n",
    "\n"
   ]
  },
  {
   "cell_type": "code",
   "execution_count": 6,
   "metadata": {},
   "outputs": [],
   "source": [
    "def readfile(fname):\n",
    "    with open(fname,'r',encoding='utf8') as f:\n",
    "        print(f.read())"
   ]
  },
  {
   "cell_type": "code",
   "execution_count": 7,
   "metadata": {},
   "outputs": [
    {
     "name": "stdout",
     "output_type": "stream",
     "text": [
      "What is Python language?                                                \n",
      "Python is a widely used high-level, general-purpose, interpreted, dynamic programming language.Its design philosophy emphasizes code readability, and its syntax allows programmers to express concepts in fewer lines of code than possible in \n",
      "languages such as C++ or Java. \n",
      "Python supports multiple programming paradigms, including object-oriented, imperative and functional programming or procedural styles. It features a dynamic type system and automatic memory management and has a large and comprehensive standard library.The best way we learn anything is by practice and exercise questions. We  have started this section for those (beginner to intermediate) who are familiar with Python.\n",
      "Sample Solution:-\n",
      "\n",
      "Python Code:\n",
      "\n",
      "def file_read(fname):\n",
      "        txt = open(fname)\n",
      "        print(txt.read())\n",
      "\n",
      "file_read('test.txt')\n",
      "\n",
      "Sample Output:\n",
      "\n",
      "Welcome to w3resource.com.                                                                                    \n",
      "Append this text.Append this text.Append this text.                                                           \n",
      "Append this text.                                                                                             \n",
      "Append this text.                                                                                             \n",
      "Append this text.                                                                                             \n",
      "Append this text. \n",
      "Flowchart:\n",
      "\n",
      "Flowchart: File I/O:  Read an entire text file.\n",
      "Python Code Editor:\n",
      "\n",
      "\n",
      "Have another way to solve this solution? Contribute your code (and comments) through Disqus.\n",
      "\n",
      "Previous: File Exercises Home.\n",
      "Next: Write a Python program to read first n lines of a file.\n",
      "\n",
      "What is the difficulty level of this exercise?\n",
      "\n",
      "EASY MEDIUM HARD\n",
      "Based on 678 votes, average difficulty level of this exercise is Easy .\n",
      "Test your Python skills with w3resource's quiz\n",
      "\n",
      "﻿\n",
      "\n",
      " \n",
      "Python: Tips of the Day\n",
      "Use a dictionary to store a switch:\n",
      "\n",
      ">>> func_dict = {'sum': lambda x, y: x + y, 'subtract': lambda x, y: x - y}\n",
      ">>> func_dict['sum'](9,3)\n",
      "12\n",
      ">>> func_dict['subtract'](9,3)\n",
      "6\n",
      "New Content published on w3resource:\n",
      "Scala Programming Exercises, Practice, Solution\n",
      "Python Itertools exercises\n",
      "Python Numpy exercises\n",
      "Python GeoPy Package exercises\n",
      "Python Pandas exercises\n",
      "Python nltk exercises\n",
      "Python BeautifulSoup exercises\n",
      "Form Template\n",
      "Composer - PHP Package Manager\n",
      "PHPUnit - PHP Testing\n",
      "Laravel - PHP Framework\n",
      "Angular - JavaScript Framework\n",
      "Vue - JavaScript Framework\n",
      "Jest - JavaScript Testing Framework\n",
      "by TaboolaSponsored LinksYou May Like\n",
      "Cancer Patients Who Used Zantac May Be Compensated\n",
      "National Injury Bureau\n",
      "Distracted Remote Team? Fix That with These 6 Tips\n",
      "Lucidspark\n",
      "The Actual Cost of Tub to Shower Conversion May Surprise You.\n",
      "Mad City Showers\n",
      "Minnesota: Warm Up Chilly Rooms While Slashing Your Electric Bill By 30%\n",
      "Top Deals Post\n",
      "Think Testosterone is the Answer? Mike Tyson Says \"Think again\"\n",
      "Mike Tyson's IM-21\n",
      "These Top-Of-The-Line Luxury SUVs Are Shockingly Affordable\n",
      "Luxury SUV Savings\n",
      "\n",
      "\n"
     ]
    }
   ],
   "source": [
    "readfile('p2.txt')"
   ]
  },
  {
   "cell_type": "code",
   "execution_count": 8,
   "metadata": {},
   "outputs": [],
   "source": [
    "import numpy as np"
   ]
  },
  {
   "cell_type": "code",
   "execution_count": 9,
   "metadata": {},
   "outputs": [
    {
     "name": "stdout",
     "output_type": "stream",
     "text": [
      "['What is Python language?                                                \\n', 'Python is a widely used high-level, general-purpose, interpreted, dynamic programming language.Its design philosophy emphasizes code readability, and its syntax allows programmers to express concepts in fewer lines of code than possible in \\n', 'languages such as C++ or Java. \\n', 'Python supports multiple programming paradigms, including object-oriented, imperative and functional programming or procedural styles. It features a dynamic type system and automatic memory management and has a large and comprehensive standard library.The best way we learn anything is by practice and exercise questions. We  have started this section for those (beginner to intermediate) who are familiar with Python.\\n', 'Sample Solution:-\\n', '\\n', 'Python Code:\\n', '\\n', 'def file_read(fname):\\n', '        txt = open(fname)\\n', '        print(txt.read())\\n', '\\n', \"file_read('test.txt')\\n\", '\\n', 'Sample Output:\\n', '\\n', 'Welcome to w3resource.com.                                                                                    \\n', 'Append this text.Append this text.Append this text.                                                           \\n', 'Append this text.                                                                                             \\n', 'Append this text.                                                                                             \\n', 'Append this text.                                                                                             \\n', 'Append this text. \\n', 'Flowchart:\\n', '\\n', 'Flowchart: File I/O:  Read an entire text file.\\n', 'Python Code Editor:\\n', '\\n', '\\n', 'Have another way to solve this solution? Contribute your code (and comments) through Disqus.\\n', '\\n', 'Previous: File Exercises Home.\\n', 'Next: Write a Python program to read first n lines of a file.\\n', '\\n', 'What is the difficulty level of this exercise?\\n', '\\n', 'EASY MEDIUM HARD\\n', 'Based on 678 votes, average difficulty level of this exercise is Easy .\\n', \"Test your Python skills with w3resource's quiz\\n\", '\\n', '\\ufeff\\n', '\\n', ' \\n', 'Python: Tips of the Day\\n', 'Use a dictionary to store a switch:\\n', '\\n', \">>> func_dict = {'sum': lambda x, y: x + y, 'subtract': lambda x, y: x - y}\\n\", \">>> func_dict['sum'](9,3)\\n\", '12\\n', \">>> func_dict['subtract'](9,3)\\n\", '6\\n', 'New Content published on w3resource:\\n', 'Scala Programming Exercises, Practice, Solution\\n', 'Python Itertools exercises\\n', 'Python Numpy exercises\\n', 'Python GeoPy Package exercises\\n', 'Python Pandas exercises\\n', 'Python nltk exercises\\n', 'Python BeautifulSoup exercises\\n', 'Form Template\\n', 'Composer - PHP Package Manager\\n', 'PHPUnit - PHP Testing\\n', 'Laravel - PHP Framework\\n', 'Angular - JavaScript Framework\\n', 'Vue - JavaScript Framework\\n', 'Jest - JavaScript Testing Framework\\n', 'by TaboolaSponsored LinksYou May Like\\n', 'Cancer Patients Who Used Zantac May Be Compensated\\n', 'National Injury Bureau\\n', 'Distracted Remote Team? Fix That with These 6 Tips\\n', 'Lucidspark\\n', 'The Actual Cost of Tub to Shower Conversion May Surprise You.\\n', 'Mad City Showers\\n', 'Minnesota: Warm Up Chilly Rooms While Slashing Your Electric Bill By 30%\\n', 'Top Deals Post\\n', 'Think Testosterone is the Answer? Mike Tyson Says \"Think again\"\\n', \"Mike Tyson's IM-21\\n\", 'These Top-Of-The-Line Luxury SUVs Are Shockingly Affordable\\n', 'Luxury SUV Savings\\n', '\\n']\n"
     ]
    }
   ],
   "source": [
    "with open('p2.txt','r') as f:\n",
    "    print((f.readlines()))"
   ]
  },
  {
   "cell_type": "code",
   "execution_count": 10,
   "metadata": {},
   "outputs": [],
   "source": [
    "def max_len_word(fname):\n",
    "    with open(fname,'r') as f:\n",
    "        words=f.read().split()\n",
    "        maxlen=len(max(words,key=len))\n",
    "        return [w for w in words if maxlen==len(w)]"
   ]
  },
  {
   "cell_type": "code",
   "execution_count": 11,
   "metadata": {},
   "outputs": [
    {
     "data": {
      "text/plain": [
       "[\"func_dict['subtract'](9,3)\"]"
      ]
     },
     "execution_count": 11,
     "metadata": {},
     "output_type": "execute_result"
    }
   ],
   "source": [
    "max_len_word('p2.txt')"
   ]
  },
  {
   "cell_type": "code",
   "execution_count": 12,
   "metadata": {},
   "outputs": [
    {
     "name": "stdout",
     "output_type": "stream",
     "text": [
      "1------->What is Python language?                                                \n",
      "\n",
      "2------->Python is a widely used high-level, general-purpose, interpreted, dynamic programming language.Its design philosophy emphasizes code readability, and its syntax allows programmers to express concepts in fewer lines of code than possible in \n",
      "\n",
      "3------->languages such as C++ or Java. \n",
      "\n",
      "4------->Python supports multiple programming paradigms, including object-oriented, imperative and functional programming or procedural styles. It features a dynamic type system and automatic memory management and has a large and comprehensive standard library.The best way we learn anything is by practice and exercise questions. We  have started this section for those (beginner to intermediate) who are familiar with Python.\n",
      "\n",
      "5------->Sample Solution:-\n",
      "\n",
      "6------->\n",
      "\n",
      "7------->Python Code:\n",
      "\n",
      "8------->\n",
      "\n",
      "9------->def file_read(fname):\n",
      "\n",
      "10------->        txt = open(fname)\n",
      "\n",
      "11------->        print(txt.read())\n",
      "\n",
      "12------->\n",
      "\n",
      "13------->file_read('test.txt')\n",
      "\n",
      "14------->\n",
      "\n",
      "15------->Sample Output:\n",
      "\n",
      "16------->\n",
      "\n",
      "17------->Welcome to w3resource.com.                                                                                    \n",
      "\n",
      "18------->Append this text.Append this text.Append this text.                                                           \n",
      "\n",
      "19------->Append this text.                                                                                             \n",
      "\n",
      "20------->Append this text.                                                                                             \n",
      "\n",
      "21------->Append this text.                                                                                             \n",
      "\n",
      "22------->Append this text. \n",
      "\n",
      "23------->Flowchart:\n",
      "\n",
      "24------->\n",
      "\n",
      "25------->Flowchart: File I/O:  Read an entire text file.\n",
      "\n",
      "26------->Python Code Editor:\n",
      "\n",
      "27------->\n",
      "\n",
      "28------->\n",
      "\n",
      "29------->Have another way to solve this solution? Contribute your code (and comments) through Disqus.\n",
      "\n",
      "30------->\n",
      "\n",
      "31------->Previous: File Exercises Home.\n",
      "\n",
      "32------->Next: Write a Python program to read first n lines of a file.\n",
      "\n",
      "33------->\n",
      "\n",
      "34------->What is the difficulty level of this exercise?\n",
      "\n",
      "35------->\n",
      "\n",
      "36------->EASY MEDIUM HARD\n",
      "\n",
      "37------->Based on 678 votes, average difficulty level of this exercise is Easy .\n",
      "\n",
      "38------->Test your Python skills with w3resource's quiz\n",
      "\n",
      "39------->\n",
      "\n",
      "40------->﻿\n",
      "\n",
      "41------->\n",
      "\n",
      "42-------> \n",
      "\n",
      "43------->Python: Tips of the Day\n",
      "\n",
      "44------->Use a dictionary to store a switch:\n",
      "\n",
      "45------->\n",
      "\n",
      "46------->>>> func_dict = {'sum': lambda x, y: x + y, 'subtract': lambda x, y: x - y}\n",
      "\n",
      "47------->>>> func_dict['sum'](9,3)\n",
      "\n",
      "48------->12\n",
      "\n",
      "49------->>>> func_dict['subtract'](9,3)\n",
      "\n",
      "50------->6\n",
      "\n",
      "51------->New Content published on w3resource:\n",
      "\n",
      "52------->Scala Programming Exercises, Practice, Solution\n",
      "\n",
      "53------->Python Itertools exercises\n",
      "\n",
      "54------->Python Numpy exercises\n",
      "\n",
      "55------->Python GeoPy Package exercises\n",
      "\n",
      "56------->Python Pandas exercises\n",
      "\n",
      "57------->Python nltk exercises\n",
      "\n",
      "58------->Python BeautifulSoup exercises\n",
      "\n",
      "59------->Form Template\n",
      "\n",
      "60------->Composer - PHP Package Manager\n",
      "\n",
      "61------->PHPUnit - PHP Testing\n",
      "\n",
      "62------->Laravel - PHP Framework\n",
      "\n",
      "63------->Angular - JavaScript Framework\n",
      "\n",
      "64------->Vue - JavaScript Framework\n",
      "\n",
      "65------->Jest - JavaScript Testing Framework\n",
      "\n",
      "66------->by TaboolaSponsored LinksYou May Like\n",
      "\n",
      "67------->Cancer Patients Who Used Zantac May Be Compensated\n",
      "\n",
      "68------->National Injury Bureau\n",
      "\n",
      "69------->Distracted Remote Team? Fix That with These 6 Tips\n",
      "\n",
      "70------->Lucidspark\n",
      "\n",
      "71------->The Actual Cost of Tub to Shower Conversion May Surprise You.\n",
      "\n",
      "72------->Mad City Showers\n",
      "\n",
      "73------->Minnesota: Warm Up Chilly Rooms While Slashing Your Electric Bill By 30%\n",
      "\n",
      "74------->Top Deals Post\n",
      "\n",
      "75------->Think Testosterone is the Answer? Mike Tyson Says \"Think again\"\n",
      "\n",
      "76------->Mike Tyson's IM-21\n",
      "\n",
      "77------->These Top-Of-The-Line Luxury SUVs Are Shockingly Affordable\n",
      "\n",
      "78------->Luxury SUV Savings\n",
      "\n",
      "79------->\n",
      "\n"
     ]
    }
   ],
   "source": [
    "with open('p2.txt','r') as f:\n",
    "    for i, l in enumerate(f):\n",
    "        print(f'{i+1}------->{l}')"
   ]
  },
  {
   "cell_type": "code",
   "execution_count": 13,
   "metadata": {},
   "outputs": [],
   "source": [
    "from collections import Counter\n",
    "def word_count(fname):\n",
    "    with open(fname,'r') as f:\n",
    "        return Counter(f.read().split())\n",
    "        "
   ]
  },
  {
   "cell_type": "code",
   "execution_count": 15,
   "metadata": {},
   "outputs": [],
   "source": [
    "a=word_count('p2.txt')"
   ]
  },
  {
   "cell_type": "code",
   "execution_count": 16,
   "metadata": {},
   "outputs": [
    {
     "data": {
      "text/plain": [
       "Counter({'What': 2,\n",
       "         'is': 6,\n",
       "         'Python': 13,\n",
       "         'language?': 1,\n",
       "         'a': 7,\n",
       "         'widely': 1,\n",
       "         'used': 1,\n",
       "         'high-level,': 1,\n",
       "         'general-purpose,': 1,\n",
       "         'interpreted,': 1,\n",
       "         'dynamic': 2,\n",
       "         'programming': 3,\n",
       "         'language.Its': 1,\n",
       "         'design': 1,\n",
       "         'philosophy': 1,\n",
       "         'emphasizes': 1,\n",
       "         'code': 3,\n",
       "         'readability,': 1,\n",
       "         'and': 6,\n",
       "         'its': 1,\n",
       "         'syntax': 1,\n",
       "         'allows': 1,\n",
       "         'programmers': 1,\n",
       "         'to': 7,\n",
       "         'express': 1,\n",
       "         'concepts': 1,\n",
       "         'in': 2,\n",
       "         'fewer': 1,\n",
       "         'lines': 2,\n",
       "         'of': 6,\n",
       "         'than': 1,\n",
       "         'possible': 1,\n",
       "         'languages': 1,\n",
       "         'such': 1,\n",
       "         'as': 1,\n",
       "         'C++': 1,\n",
       "         'or': 2,\n",
       "         'Java.': 1,\n",
       "         'supports': 1,\n",
       "         'multiple': 1,\n",
       "         'paradigms,': 1,\n",
       "         'including': 1,\n",
       "         'object-oriented,': 1,\n",
       "         'imperative': 1,\n",
       "         'functional': 1,\n",
       "         'procedural': 1,\n",
       "         'styles.': 1,\n",
       "         'It': 1,\n",
       "         'features': 1,\n",
       "         'type': 1,\n",
       "         'system': 1,\n",
       "         'automatic': 1,\n",
       "         'memory': 1,\n",
       "         'management': 1,\n",
       "         'has': 1,\n",
       "         'large': 1,\n",
       "         'comprehensive': 1,\n",
       "         'standard': 1,\n",
       "         'library.The': 1,\n",
       "         'best': 1,\n",
       "         'way': 2,\n",
       "         'we': 1,\n",
       "         'learn': 1,\n",
       "         'anything': 1,\n",
       "         'by': 2,\n",
       "         'practice': 1,\n",
       "         'exercise': 2,\n",
       "         'questions.': 1,\n",
       "         'We': 1,\n",
       "         'have': 1,\n",
       "         'started': 1,\n",
       "         'this': 11,\n",
       "         'section': 1,\n",
       "         'for': 1,\n",
       "         'those': 1,\n",
       "         '(beginner': 1,\n",
       "         'intermediate)': 1,\n",
       "         'who': 1,\n",
       "         'are': 1,\n",
       "         'familiar': 1,\n",
       "         'with': 3,\n",
       "         'Python.': 1,\n",
       "         'Sample': 2,\n",
       "         'Solution:-': 1,\n",
       "         'Code:': 1,\n",
       "         'def': 1,\n",
       "         'file_read(fname):': 1,\n",
       "         'txt': 1,\n",
       "         '=': 2,\n",
       "         'open(fname)': 1,\n",
       "         'print(txt.read())': 1,\n",
       "         \"file_read('test.txt')\": 1,\n",
       "         'Output:': 1,\n",
       "         'Welcome': 1,\n",
       "         'w3resource.com.': 1,\n",
       "         'Append': 5,\n",
       "         'text.Append': 2,\n",
       "         'text.': 5,\n",
       "         'Flowchart:': 2,\n",
       "         'File': 2,\n",
       "         'I/O:': 1,\n",
       "         'Read': 1,\n",
       "         'an': 1,\n",
       "         'entire': 1,\n",
       "         'text': 1,\n",
       "         'file.': 2,\n",
       "         'Code': 1,\n",
       "         'Editor:': 1,\n",
       "         'Have': 1,\n",
       "         'another': 1,\n",
       "         'solve': 1,\n",
       "         'solution?': 1,\n",
       "         'Contribute': 1,\n",
       "         'your': 2,\n",
       "         '(and': 1,\n",
       "         'comments)': 1,\n",
       "         'through': 1,\n",
       "         'Disqus.': 1,\n",
       "         'Previous:': 1,\n",
       "         'Exercises': 1,\n",
       "         'Home.': 1,\n",
       "         'Next:': 1,\n",
       "         'Write': 1,\n",
       "         'program': 1,\n",
       "         'read': 1,\n",
       "         'first': 1,\n",
       "         'n': 1,\n",
       "         'the': 3,\n",
       "         'difficulty': 2,\n",
       "         'level': 2,\n",
       "         'exercise?': 1,\n",
       "         'EASY': 1,\n",
       "         'MEDIUM': 1,\n",
       "         'HARD': 1,\n",
       "         'Based': 1,\n",
       "         'on': 2,\n",
       "         '678': 1,\n",
       "         'votes,': 1,\n",
       "         'average': 1,\n",
       "         'Easy': 1,\n",
       "         '.': 1,\n",
       "         'Test': 1,\n",
       "         'skills': 1,\n",
       "         \"w3resource's\": 1,\n",
       "         'quiz': 1,\n",
       "         '\\ufeff': 1,\n",
       "         'Python:': 1,\n",
       "         'Tips': 2,\n",
       "         'Day': 1,\n",
       "         'Use': 1,\n",
       "         'dictionary': 1,\n",
       "         'store': 1,\n",
       "         'switch:': 1,\n",
       "         '>>>': 3,\n",
       "         'func_dict': 1,\n",
       "         \"{'sum':\": 1,\n",
       "         'lambda': 2,\n",
       "         'x,': 2,\n",
       "         'y:': 2,\n",
       "         'x': 2,\n",
       "         '+': 1,\n",
       "         'y,': 1,\n",
       "         \"'subtract':\": 1,\n",
       "         '-': 7,\n",
       "         'y}': 1,\n",
       "         \"func_dict['sum'](9,3)\": 1,\n",
       "         '12': 1,\n",
       "         \"func_dict['subtract'](9,3)\": 1,\n",
       "         '6': 2,\n",
       "         'New': 1,\n",
       "         'Content': 1,\n",
       "         'published': 1,\n",
       "         'w3resource:': 1,\n",
       "         'Scala': 1,\n",
       "         'Programming': 1,\n",
       "         'Exercises,': 1,\n",
       "         'Practice,': 1,\n",
       "         'Solution': 1,\n",
       "         'Itertools': 1,\n",
       "         'exercises': 6,\n",
       "         'Numpy': 1,\n",
       "         'GeoPy': 1,\n",
       "         'Package': 2,\n",
       "         'Pandas': 1,\n",
       "         'nltk': 1,\n",
       "         'BeautifulSoup': 1,\n",
       "         'Form': 1,\n",
       "         'Template': 1,\n",
       "         'Composer': 1,\n",
       "         'PHP': 3,\n",
       "         'Manager': 1,\n",
       "         'PHPUnit': 1,\n",
       "         'Testing': 2,\n",
       "         'Laravel': 1,\n",
       "         'Framework': 4,\n",
       "         'Angular': 1,\n",
       "         'JavaScript': 3,\n",
       "         'Vue': 1,\n",
       "         'Jest': 1,\n",
       "         'TaboolaSponsored': 1,\n",
       "         'LinksYou': 1,\n",
       "         'May': 3,\n",
       "         'Like': 1,\n",
       "         'Cancer': 1,\n",
       "         'Patients': 1,\n",
       "         'Who': 1,\n",
       "         'Used': 1,\n",
       "         'Zantac': 1,\n",
       "         'Be': 1,\n",
       "         'Compensated': 1,\n",
       "         'National': 1,\n",
       "         'Injury': 1,\n",
       "         'Bureau': 1,\n",
       "         'Distracted': 1,\n",
       "         'Remote': 1,\n",
       "         'Team?': 1,\n",
       "         'Fix': 1,\n",
       "         'That': 1,\n",
       "         'These': 2,\n",
       "         'Lucidspark': 1,\n",
       "         'The': 1,\n",
       "         'Actual': 1,\n",
       "         'Cost': 1,\n",
       "         'Tub': 1,\n",
       "         'Shower': 1,\n",
       "         'Conversion': 1,\n",
       "         'Surprise': 1,\n",
       "         'You.': 1,\n",
       "         'Mad': 1,\n",
       "         'City': 1,\n",
       "         'Showers': 1,\n",
       "         'Minnesota:': 1,\n",
       "         'Warm': 1,\n",
       "         'Up': 1,\n",
       "         'Chilly': 1,\n",
       "         'Rooms': 1,\n",
       "         'While': 1,\n",
       "         'Slashing': 1,\n",
       "         'Your': 1,\n",
       "         'Electric': 1,\n",
       "         'Bill': 1,\n",
       "         'By': 1,\n",
       "         '30%': 1,\n",
       "         'Top': 1,\n",
       "         'Deals': 1,\n",
       "         'Post': 1,\n",
       "         'Think': 1,\n",
       "         'Testosterone': 1,\n",
       "         'Answer?': 1,\n",
       "         'Mike': 2,\n",
       "         'Tyson': 1,\n",
       "         'Says': 1,\n",
       "         '\"Think': 1,\n",
       "         'again\"': 1,\n",
       "         \"Tyson's\": 1,\n",
       "         'IM-21': 1,\n",
       "         'Top-Of-The-Line': 1,\n",
       "         'Luxury': 2,\n",
       "         'SUVs': 1,\n",
       "         'Are': 1,\n",
       "         'Shockingly': 1,\n",
       "         'Affordable': 1,\n",
       "         'SUV': 1,\n",
       "         'Savings': 1})"
      ]
     },
     "execution_count": 16,
     "metadata": {},
     "output_type": "execute_result"
    }
   ],
   "source": [
    "a"
   ]
  },
  {
   "cell_type": "code",
   "execution_count": 17,
   "metadata": {},
   "outputs": [
    {
     "name": "stdout",
     "output_type": "stream",
     "text": [
      "False\n",
      "True\n"
     ]
    }
   ],
   "source": [
    "f = open('p2.txt','r')\n",
    "print(f.closed)\n",
    "f.close()\n",
    "print(f.closed)"
   ]
  },
  {
   "cell_type": "code",
   "execution_count": 18,
   "metadata": {},
   "outputs": [],
   "source": [
    "def remove_new_line(fname):\n",
    "    with open(fname,'r') as f:\n",
    "        print(''.join([w for w in f.read() if not w == '\\n']))"
   ]
  },
  {
   "cell_type": "code",
   "execution_count": 19,
   "metadata": {},
   "outputs": [
    {
     "name": "stdout",
     "output_type": "stream",
     "text": [
      "What is Python language?                                                Python is a widely used high-level, general-purpose, interpreted, dynamic programming language.Its design philosophy emphasizes code readability, and its syntax allows programmers to express concepts in fewer lines of code than possible in languages such as C++ or Java. Python supports multiple programming paradigms, including object-oriented, imperative and functional programming or procedural styles. It features a dynamic type system and automatic memory management and has a large and comprehensive standard library.The best way we learn anything is by practice and exercise questions. We  have started this section for those (beginner to intermediate) who are familiar with Python.Sample Solution:-Python Code:def file_read(fname):        txt = open(fname)        print(txt.read())file_read('test.txt')Sample Output:Welcome to w3resource.com.                                                                                    Append this text.Append this text.Append this text.                                                           Append this text.                                                                                             Append this text.                                                                                             Append this text.                                                                                             Append this text. Flowchart:Flowchart: File I/O:  Read an entire text file.Python Code Editor:Have another way to solve this solution? Contribute your code (and comments) through Disqus.Previous: File Exercises Home.Next: Write a Python program to read first n lines of a file.What is the difficulty level of this exercise?EASY MEDIUM HARDBased on 678 votes, average difficulty level of this exercise is Easy .Test your Python skills with w3resource's quiz﻿ Python: Tips of the DayUse a dictionary to store a switch:>>> func_dict = {'sum': lambda x, y: x + y, 'subtract': lambda x, y: x - y}>>> func_dict['sum'](9,3)12>>> func_dict['subtract'](9,3)6New Content published on w3resource:Scala Programming Exercises, Practice, SolutionPython Itertools exercisesPython Numpy exercisesPython GeoPy Package exercisesPython Pandas exercisesPython nltk exercisesPython BeautifulSoup exercisesForm TemplateComposer - PHP Package ManagerPHPUnit - PHP TestingLaravel - PHP FrameworkAngular - JavaScript FrameworkVue - JavaScript FrameworkJest - JavaScript Testing Frameworkby TaboolaSponsored LinksYou May LikeCancer Patients Who Used Zantac May Be CompensatedNational Injury BureauDistracted Remote Team? Fix That with These 6 TipsLucidsparkThe Actual Cost of Tub to Shower Conversion May Surprise You.Mad City ShowersMinnesota: Warm Up Chilly Rooms While Slashing Your Electric Bill By 30%Top Deals PostThink Testosterone is the Answer? Mike Tyson Says \"Think again\"Mike Tyson's IM-21These Top-Of-The-Line Luxury SUVs Are Shockingly AffordableLuxury SUV Savings\n"
     ]
    }
   ],
   "source": [
    "remove_new_line('p2.txt')"
   ]
  },
  {
   "cell_type": "code",
   "execution_count": 20,
   "metadata": {},
   "outputs": [
    {
     "name": "stdout",
     "output_type": "stream",
     "text": [
      "What is Python language?                                                Python is a widely used high-level, general-purpose, interpreted, dynamic programming language.Its design philosophy emphasizes code readability, and its syntax allows programmers to express concepts in fewer lines of code than possible in languages such as C++ or Java. Python supports multiple programming paradigms, including object-oriented, imperative and functional programming or procedural styles. It features a dynamic type system and automatic memory management and has a large and comprehensive standard library.The best way we learn anything is by practice and exercise questions. We  have started this section for those (beginner to intermediate) who are familiar with Python.Sample Solution:-Python Code:def file_read(fname):        txt = open(fname)        print(txt.read())file_read('test.txt')Sample Output:Welcome to w3resource.com.                                                                                    Append this text.Append this text.Append this text.                                                           Append this text.                                                                                             Append this text.                                                                                             Append this text.                                                                                             Append this text. Flowchart:Flowchart: File I/O:  Read an entire text file.Python Code Editor:Have another way to solve this solution? Contribute your code (and comments) through Disqus.Previous: File Exercises Home.Next: Write a Python program to read first n lines of a file.What is the difficulty level of this exercise?EASY MEDIUM HARDBased on 678 votes, average difficulty level of this exercise is Easy .Test your Python skills with w3resource's quiz﻿ Python: Tips of the DayUse a dictionary to store a switch:>>> func_dict = {'sum': lambda x, y: x + y, 'subtract': lambda x, y: x - y}>>> func_dict['sum'](9,3)12>>> func_dict['subtract'](9,3)6New Content published on w3resource:Scala Programming Exercises, Practice, SolutionPython Itertools exercisesPython Numpy exercisesPython GeoPy Package exercisesPython Pandas exercisesPython nltk exercisesPython BeautifulSoup exercisesForm TemplateComposer - PHP Package ManagerPHPUnit - PHP TestingLaravel - PHP FrameworkAngular - JavaScript FrameworkVue - JavaScript FrameworkJest - JavaScript Testing Frameworkby TaboolaSponsored LinksYou May LikeCancer Patients Who Used Zantac May Be CompensatedNational Injury BureauDistracted Remote Team? Fix That with These 6 TipsLucidsparkThe Actual Cost of Tub to Shower Conversion May Surprise You.Mad City ShowersMinnesota: Warm Up Chilly Rooms While Slashing Your Electric Bill By 30%Top Deals PostThink Testosterone is the Answer? Mike Tyson Says \"Think again\"Mike Tyson's IM-21These Top-Of-The-Line Luxury SUVs Are Shockingly AffordableLuxury SUV Savings\n"
     ]
    }
   ],
   "source": [
    "remove_new_line('p2.txt')"
   ]
  },
  {
   "cell_type": "code",
   "execution_count": 21,
   "metadata": {},
   "outputs": [],
   "source": [
    "import string"
   ]
  },
  {
   "cell_type": "code",
   "execution_count": 22,
   "metadata": {},
   "outputs": [],
   "source": [
    "a=string.ascii_letters"
   ]
  },
  {
   "cell_type": "code",
   "execution_count": 23,
   "metadata": {},
   "outputs": [
    {
     "data": {
      "text/plain": [
       "'abcdefghijklmnopqrstuvwxyzABCDEFGHIJKLMNOPQRSTUVWXYZ'"
      ]
     },
     "execution_count": 23,
     "metadata": {},
     "output_type": "execute_result"
    }
   ],
   "source": [
    "a"
   ]
  },
  {
   "cell_type": "code",
   "execution_count": 24,
   "metadata": {},
   "outputs": [],
   "source": [
    "a=string.ascii_letters"
   ]
  },
  {
   "cell_type": "code",
   "execution_count": 25,
   "metadata": {},
   "outputs": [
    {
     "data": {
      "text/plain": [
       "'abcdefghijklmnopqrstuvwxyzABCDEFGHIJKLMNOPQRSTUVWXYZ'"
      ]
     },
     "execution_count": 25,
     "metadata": {},
     "output_type": "execute_result"
    }
   ],
   "source": [
    "a"
   ]
  },
  {
   "cell_type": "code",
   "execution_count": 26,
   "metadata": {},
   "outputs": [],
   "source": [
    "with open('p2.txt','r') as f:\n",
    "    k=''.join([w for w in f.read() if w in a or w in string.whitespace and w != '\\n' ])"
   ]
  },
  {
   "cell_type": "code",
   "execution_count": 27,
   "metadata": {},
   "outputs": [
    {
     "data": {
      "text/plain": [
       "'What is Python language                                                Python is a widely used highlevel generalpurpose interpreted dynamic programming languageIts design philosophy emphasizes code readability and its syntax allows programmers to express concepts in fewer lines of code than possible in languages such as C or Java Python supports multiple programming paradigms including objectoriented imperative and functional programming or procedural styles It features a dynamic type system and automatic memory management and has a large and comprehensive standard libraryThe best way we learn anything is by practice and exercise questions We  have started this section for those beginner to intermediate who are familiar with PythonSample SolutionPython Codedef filereadfname        txt  openfname        printtxtreadfilereadtesttxtSample OutputWelcome to wresourcecom                                                                                    Append this textAppend this textAppend this text                                                           Append this text                                                                                             Append this text                                                                                             Append this text                                                                                             Append this text FlowchartFlowchart File IO  Read an entire text filePython Code EditorHave another way to solve this solution Contribute your code and comments through DisqusPrevious File Exercises HomeNext Write a Python program to read first n lines of a fileWhat is the difficulty level of this exerciseEASY MEDIUM HARDBased on  votes average difficulty level of this exercise is Easy Test your Python skills with wresources quiz Python Tips of the DayUse a dictionary to store a switch funcdict  sum lambda x y x  y subtract lambda x y x  y funcdictsum funcdictsubtractNew Content published on wresourceScala Programming Exercises Practice SolutionPython Itertools exercisesPython Numpy exercisesPython GeoPy Package exercisesPython Pandas exercisesPython nltk exercisesPython BeautifulSoup exercisesForm TemplateComposer  PHP Package ManagerPHPUnit  PHP TestingLaravel  PHP FrameworkAngular  JavaScript FrameworkVue  JavaScript FrameworkJest  JavaScript Testing Frameworkby TaboolaSponsored LinksYou May LikeCancer Patients Who Used Zantac May Be CompensatedNational Injury BureauDistracted Remote Team Fix That with These  TipsLucidsparkThe Actual Cost of Tub to Shower Conversion May Surprise YouMad City ShowersMinnesota Warm Up Chilly Rooms While Slashing Your Electric Bill By Top Deals PostThink Testosterone is the Answer Mike Tyson Says Think againMike Tysons IMThese TopOfTheLine Luxury SUVs Are Shockingly AffordableLuxury SUV Savings'"
      ]
     },
     "execution_count": 27,
     "metadata": {},
     "output_type": "execute_result"
    }
   ],
   "source": [
    "k"
   ]
  },
  {
   "cell_type": "code",
   "execution_count": 28,
   "metadata": {},
   "outputs": [],
   "source": [
    "import glob"
   ]
  },
  {
   "cell_type": "code",
   "execution_count": 29,
   "metadata": {},
   "outputs": [],
   "source": [
    "char_list=[]\n",
    "file_list=glob.glob('*.txt')"
   ]
  },
  {
   "cell_type": "code",
   "execution_count": 30,
   "metadata": {},
   "outputs": [
    {
     "data": {
      "text/plain": [
       "['words1.txt', 'p2.txt']"
      ]
     },
     "execution_count": 30,
     "metadata": {},
     "output_type": "execute_result"
    }
   ],
   "source": [
    "file_list"
   ]
  },
  {
   "cell_type": "code",
   "execution_count": 31,
   "metadata": {},
   "outputs": [],
   "source": [
    "import string, os\n"
   ]
  },
  {
   "cell_type": "code",
   "execution_count": 32,
   "metadata": {},
   "outputs": [],
   "source": [
    "import string, os\n",
    "if not os.path.exists(\"letters\"):\n",
    "    os.makedirs(\"letters\")\n",
    "for letter in string.ascii_uppercase:\n",
    "    with open('letters'+'/'+letter + \".txt\", \"w\") as f:\n",
    "        f.writelines(letter)"
   ]
  },
  {
   "cell_type": "code",
   "execution_count": 33,
   "metadata": {},
   "outputs": [],
   "source": [
    "with open(\"words1.txt\", \"w\") as f:\n",
    "    #a=[]\n",
    "    f.writelines(str([{i+1:l} for i,l in enumerate(string.ascii_uppercase)]))"
   ]
  },
  {
   "cell_type": "code",
   "execution_count": 34,
   "metadata": {},
   "outputs": [],
   "source": [
    "with open('words1.txt') as f:\n",
    "    a=f.read()"
   ]
  },
  {
   "cell_type": "code",
   "execution_count": 35,
   "metadata": {},
   "outputs": [
    {
     "data": {
      "text/plain": [
       "\"[{1: 'A'}, {2: 'B'}, {3: 'C'}, {4: 'D'}, {5: 'E'}, {6: 'F'}, {7: 'G'}, {8: 'H'}, {9: 'I'}, {10: 'J'}, {11: 'K'}, {12: 'L'}, {13: 'M'}, {14: 'N'}, {15: 'O'}, {16: 'P'}, {17: 'Q'}, {18: 'R'}, {19: 'S'}, {20: 'T'}, {21: 'U'}, {22: 'V'}, {23: 'W'}, {24: 'X'}, {25: 'Y'}, {26: 'Z'}]\""
      ]
     },
     "execution_count": 35,
     "metadata": {},
     "output_type": "execute_result"
    }
   ],
   "source": [
    "a"
   ]
  },
  {
   "cell_type": "code",
   "execution_count": 36,
   "metadata": {},
   "outputs": [],
   "source": [
    "def filesize(fname):\n",
    "    statinfo= os.stat(fname)\n",
    "    print(statinfo)\n",
    "    return statinfo.st_size"
   ]
  },
  {
   "cell_type": "code",
   "execution_count": 38,
   "metadata": {},
   "outputs": [
    {
     "name": "stdout",
     "output_type": "stream",
     "text": [
      "os.stat_result(st_mode=33184, st_ino=3325610873, st_dev=64782, st_nlink=1, st_uid=283962, st_gid=210, st_size=3079, st_atime=1636939209, st_mtime=1636939144, st_ctime=1636939144)\n"
     ]
    },
    {
     "data": {
      "text/plain": [
       "3079"
      ]
     },
     "execution_count": 38,
     "metadata": {},
     "output_type": "execute_result"
    }
   ],
   "source": [
    "filesize(fname='p2.txt')"
   ]
  },
  {
   "cell_type": "code",
   "execution_count": 43,
   "metadata": {},
   "outputs": [],
   "source": [
    "color = ['Red', 'Green', 'White', 'Black', 'Pink', 'Yellow']\n",
    "with open('abc.txt','w') as f:\n",
    "    for c in color:\n",
    "        f.writelines(c)\n",
    "        f.write('\\n')"
   ]
  },
  {
   "cell_type": "code",
   "execution_count": 44,
   "metadata": {},
   "outputs": [
    {
     "name": "stdout",
     "output_type": "stream",
     "text": [
      "Red\n",
      "Green\n",
      "White\n",
      "Black\n",
      "Pink\n",
      "Yellow\n",
      "\n"
     ]
    }
   ],
   "source": [
    "with open('abc.txt','r') as f:\n",
    "    print(f.read())"
   ]
  },
  {
   "cell_type": "code",
   "execution_count": 47,
   "metadata": {},
   "outputs": [],
   "source": [
    "from shutil import copytree,copyfile"
   ]
  },
  {
   "cell_type": "code",
   "execution_count": 49,
   "metadata": {},
   "outputs": [
    {
     "data": {
      "text/plain": [
       "'let1'"
      ]
     },
     "execution_count": 49,
     "metadata": {},
     "output_type": "execute_result"
    }
   ],
   "source": [
    "copytree('letters/','let1')"
   ]
  },
  {
   "cell_type": "code",
   "execution_count": 50,
   "metadata": {},
   "outputs": [
    {
     "data": {
      "text/plain": [
       "'ak.txt'"
      ]
     },
     "execution_count": 50,
     "metadata": {},
     "output_type": "execute_result"
    }
   ],
   "source": [
    "copyfile('abc.txt','ak.txt')"
   ]
  },
  {
   "cell_type": "code",
   "execution_count": 53,
   "metadata": {},
   "outputs": [
    {
     "data": {
      "text/plain": [
       "'ak'"
      ]
     },
     "execution_count": 53,
     "metadata": {},
     "output_type": "execute_result"
    }
   ],
   "source": [
    "copyfile('p2.txt','ak')"
   ]
  },
  {
   "cell_type": "code",
   "execution_count": 54,
   "metadata": {},
   "outputs": [
    {
     "name": "stdout",
     "output_type": "stream",
     "text": [
      "What is Python language?                                                \n",
      "Python is a widely used high-level, general-purpose, interpreted, dynamic programming language.Its design philosophy emphasizes code readability, and its syntax allows programmers to express concepts in fewer lines of code than possible in \n",
      "languages such as C++ or Java. \n",
      "Python supports multiple programming paradigms, including object-oriented, imperative and functional programming or procedural styles. It features a dynamic type system and automatic memory management and has a large and comprehensive standard library.The best way we learn anything is by practice and exercise questions. We  have started this section for those (beginner to intermediate) who are familiar with Python.\n",
      "Sample Solution:-\n",
      "\n",
      "Python Code:\n",
      "\n",
      "def file_read(fname):\n",
      "        txt = open(fname)\n",
      "        print(txt.read())\n",
      "\n",
      "file_read('test.txt')\n",
      "\n",
      "Sample Output:\n",
      "\n",
      "Welcome to w3resource.com.                                                                                    \n",
      "Append this text.Append this text.Append this text.                                                           \n",
      "Append this text.                                                                                             \n",
      "Append this text.                                                                                             \n",
      "Append this text.                                                                                             \n",
      "Append this text. \n",
      "Flowchart:\n",
      "\n",
      "Flowchart: File I/O:  Read an entire text file.\n",
      "Python Code Editor:\n",
      "\n",
      "\n",
      "Have another way to solve this solution? Contribute your code (and comments) through Disqus.\n",
      "\n",
      "Previous: File Exercises Home.\n",
      "Next: Write a Python program to read first n lines of a file.\n",
      "\n",
      "What is the difficulty level of this exercise?\n",
      "\n",
      "EASY MEDIUM HARD\n",
      "Based on 678 votes, average difficulty level of this exercise is Easy .\n",
      "Test your Python skills with w3resource's quiz\n",
      "\n",
      "﻿\n",
      "\n",
      " \n",
      "Python: Tips of the Day\n",
      "Use a dictionary to store a switch:\n",
      "\n",
      ">>> func_dict = {'sum': lambda x, y: x + y, 'subtract': lambda x, y: x - y}\n",
      ">>> func_dict['sum'](9,3)\n",
      "12\n",
      ">>> func_dict['subtract'](9,3)\n",
      "6\n",
      "New Content published on w3resource:\n",
      "Scala Programming Exercises, Practice, Solution\n",
      "Python Itertools exercises\n",
      "Python Numpy exercises\n",
      "Python GeoPy Package exercises\n",
      "Python Pandas exercises\n",
      "Python nltk exercises\n",
      "Python BeautifulSoup exercises\n",
      "Form Template\n",
      "Composer - PHP Package Manager\n",
      "PHPUnit - PHP Testing\n",
      "Laravel - PHP Framework\n",
      "Angular - JavaScript Framework\n",
      "Vue - JavaScript Framework\n",
      "Jest - JavaScript Testing Framework\n",
      "by TaboolaSponsored LinksYou May Like\n",
      "Cancer Patients Who Used Zantac May Be Compensated\n",
      "National Injury Bureau\n",
      "Distracted Remote Team? Fix That with These 6 Tips\n",
      "Lucidspark\n",
      "The Actual Cost of Tub to Shower Conversion May Surprise You.\n",
      "Mad City Showers\n",
      "Minnesota: Warm Up Chilly Rooms While Slashing Your Electric Bill By 30%\n",
      "Top Deals Post\n",
      "Think Testosterone is the Answer? Mike Tyson Says \"Think again\"\n",
      "Mike Tyson's IM-21\n",
      "These Top-Of-The-Line Luxury SUVs Are Shockingly Affordable\n",
      "Luxury SUV Savings\n",
      "\n",
      "\n"
     ]
    }
   ],
   "source": [
    "readfile('ak')"
   ]
  },
  {
   "cell_type": "code",
   "execution_count": 59,
   "metadata": {},
   "outputs": [
    {
     "name": "stdout",
     "output_type": "stream",
     "text": [
      "What is Python language?                                                \n",
      "What is Python language?                                                \n",
      "\n",
      "Python is a widely used high-level, general-purpose, interpreted, dynamic programming language.Its design philosophy emphasizes code readability, and its syntax allows programmers to express concepts in fewer lines of code than possible in \n",
      "Python is a widely used high-level, general-purpose, interpreted, dynamic programming language.Its design philosophy emphasizes code readability, and its syntax allows programmers to express concepts in fewer lines of code than possible in \n",
      "\n",
      "languages such as C++ or Java. \n",
      "languages such as C++ or Java. \n",
      "\n",
      "Python supports multiple programming paradigms, including object-oriented, imperative and functional programming or procedural styles. It features a dynamic type system and automatic memory management and has a large and comprehensive standard library.The best way we learn anything is by practice and exercise questions. We  have started this section for those (beginner to intermediate) who are familiar with Python.\n",
      "Python supports multiple programming paradigms, including object-oriented, imperative and functional programming or procedural styles. It features a dynamic type system and automatic memory management and has a large and comprehensive standard library.The best way we learn anything is by practice and exercise questions. We  have started this section for those (beginner to intermediate) who are familiar with Python.\n",
      "\n",
      "Sample Solution:-\n",
      "Sample Solution:-\n",
      "\n",
      "\n",
      "\n",
      "\n",
      "Python Code:\n",
      "Python Code:\n",
      "\n",
      "\n",
      "\n",
      "\n",
      "def file_read(fname):\n",
      "def file_read(fname):\n",
      "\n",
      "        txt = open(fname)\n",
      "        txt = open(fname)\n",
      "\n",
      "        print(txt.read())\n",
      "        print(txt.read())\n",
      "\n",
      "\n",
      "\n",
      "\n",
      "file_read('test.txt')\n",
      "file_read('test.txt')\n",
      "\n",
      "\n",
      "\n",
      "\n",
      "Sample Output:\n",
      "Sample Output:\n",
      "\n",
      "\n",
      "\n",
      "\n",
      "Welcome to w3resource.com.                                                                                    \n",
      "Welcome to w3resource.com.                                                                                    \n",
      "\n",
      "Append this text.Append this text.Append this text.                                                           \n",
      "Append this text.Append this text.Append this text.                                                           \n",
      "\n",
      "Append this text.                                                                                             \n",
      "Append this text.                                                                                             \n",
      "\n",
      "Append this text.                                                                                             \n",
      "Append this text.                                                                                             \n",
      "\n",
      "Append this text.                                                                                             \n",
      "Append this text.                                                                                             \n",
      "\n",
      "Append this text. \n",
      "Append this text. \n",
      "\n",
      "Flowchart:\n",
      "Flowchart:\n",
      "\n",
      "\n",
      "\n",
      "\n",
      "Flowchart: File I/O:  Read an entire text file.\n",
      "Flowchart: File I/O:  Read an entire text file.\n",
      "\n",
      "Python Code Editor:\n",
      "Python Code Editor:\n",
      "\n",
      "\n",
      "\n",
      "\n",
      "\n",
      "\n",
      "\n",
      "Have another way to solve this solution? Contribute your code (and comments) through Disqus.\n",
      "Have another way to solve this solution? Contribute your code (and comments) through Disqus.\n",
      "\n",
      "\n",
      "\n",
      "\n",
      "Previous: File Exercises Home.\n",
      "Previous: File Exercises Home.\n",
      "\n",
      "Next: Write a Python program to read first n lines of a file.\n",
      "Next: Write a Python program to read first n lines of a file.\n",
      "\n",
      "\n",
      "\n",
      "\n",
      "What is the difficulty level of this exercise?\n",
      "What is the difficulty level of this exercise?\n",
      "\n",
      "\n",
      "\n",
      "\n",
      "EASY MEDIUM HARD\n",
      "EASY MEDIUM HARD\n",
      "\n",
      "Based on 678 votes, average difficulty level of this exercise is Easy .\n",
      "Based on 678 votes, average difficulty level of this exercise is Easy .\n",
      "\n",
      "Test your Python skills with w3resource's quiz\n",
      "Test your Python skills with w3resource's quiz\n",
      "\n",
      "\n",
      "\n",
      "\n",
      "﻿\n",
      "﻿\n",
      "\n",
      "\n",
      "\n",
      "\n",
      " \n",
      " \n",
      "\n",
      "Python: Tips of the Day\n",
      "Python: Tips of the Day\n",
      "\n",
      "Use a dictionary to store a switch:\n",
      "Use a dictionary to store a switch:\n",
      "\n",
      "\n",
      "\n",
      "\n",
      ">>> func_dict = {'sum': lambda x, y: x + y, 'subtract': lambda x, y: x - y}\n",
      ">>> func_dict = {'sum': lambda x, y: x + y, 'subtract': lambda x, y: x - y}\n",
      "\n",
      ">>> func_dict['sum'](9,3)\n",
      ">>> func_dict['sum'](9,3)\n",
      "\n",
      "12\n",
      "12\n",
      "\n",
      ">>> func_dict['subtract'](9,3)\n",
      ">>> func_dict['subtract'](9,3)\n",
      "\n",
      "6\n",
      "6\n",
      "\n",
      "New Content published on w3resource:\n",
      "New Content published on w3resource:\n",
      "\n",
      "Scala Programming Exercises, Practice, Solution\n",
      "Scala Programming Exercises, Practice, Solution\n",
      "\n",
      "Python Itertools exercises\n",
      "Python Itertools exercises\n",
      "\n",
      "Python Numpy exercises\n",
      "Python Numpy exercises\n",
      "\n",
      "Python GeoPy Package exercises\n",
      "Python GeoPy Package exercises\n",
      "\n",
      "Python Pandas exercises\n",
      "Python Pandas exercises\n",
      "\n",
      "Python nltk exercises\n",
      "Python nltk exercises\n",
      "\n",
      "Python BeautifulSoup exercises\n",
      "Python BeautifulSoup exercises\n",
      "\n",
      "Form Template\n",
      "Form Template\n",
      "\n",
      "Composer - PHP Package Manager\n",
      "Composer - PHP Package Manager\n",
      "\n",
      "PHPUnit - PHP Testing\n",
      "PHPUnit - PHP Testing\n",
      "\n",
      "Laravel - PHP Framework\n",
      "Laravel - PHP Framework\n",
      "\n",
      "Angular - JavaScript Framework\n",
      "Angular - JavaScript Framework\n",
      "\n",
      "Vue - JavaScript Framework\n",
      "Vue - JavaScript Framework\n",
      "\n",
      "Jest - JavaScript Testing Framework\n",
      "Jest - JavaScript Testing Framework\n",
      "\n",
      "by TaboolaSponsored LinksYou May Like\n",
      "by TaboolaSponsored LinksYou May Like\n",
      "\n",
      "Cancer Patients Who Used Zantac May Be Compensated\n",
      "Cancer Patients Who Used Zantac May Be Compensated\n",
      "\n",
      "National Injury Bureau\n",
      "National Injury Bureau\n",
      "\n",
      "Distracted Remote Team? Fix That with These 6 Tips\n",
      "Distracted Remote Team? Fix That with These 6 Tips\n",
      "\n",
      "Lucidspark\n",
      "Lucidspark\n",
      "\n",
      "The Actual Cost of Tub to Shower Conversion May Surprise You.\n",
      "The Actual Cost of Tub to Shower Conversion May Surprise You.\n",
      "\n",
      "Mad City Showers\n",
      "Mad City Showers\n",
      "\n",
      "Minnesota: Warm Up Chilly Rooms While Slashing Your Electric Bill By 30%\n",
      "Minnesota: Warm Up Chilly Rooms While Slashing Your Electric Bill By 30%\n",
      "\n",
      "Top Deals Post\n",
      "Top Deals Post\n",
      "\n",
      "Think Testosterone is the Answer? Mike Tyson Says \"Think again\"\n",
      "Think Testosterone is the Answer? Mike Tyson Says \"Think again\"\n",
      "\n",
      "Mike Tyson's IM-21\n",
      "Mike Tyson's IM-21\n",
      "\n",
      "These Top-Of-The-Line Luxury SUVs Are Shockingly Affordable\n",
      "These Top-Of-The-Line Luxury SUVs Are Shockingly Affordable\n",
      "\n",
      "Luxury SUV Savings\n",
      "Luxury SUV Savings\n",
      "\n",
      "\n",
      "\n",
      "\n"
     ]
    }
   ],
   "source": [
    "with open('ak.txt') as f1, open('ak') as f2:\n",
    "    for l1,l2 in zip(f1,f2):\n",
    "        print(l1+l2)"
   ]
  },
  {
   "cell_type": "code",
   "execution_count": 62,
   "metadata": {},
   "outputs": [],
   "source": [
    "import random"
   ]
  },
  {
   "cell_type": "code",
   "execution_count": 64,
   "metadata": {},
   "outputs": [
    {
     "name": "stdout",
     "output_type": "stream",
     "text": [
      "\n"
     ]
    }
   ],
   "source": [
    "with open('ak.txt') as f:\n",
    "    print(random.choice(f.read().splitlines()))"
   ]
  },
  {
   "cell_type": "code",
   "execution_count": null,
   "metadata": {},
   "outputs": [],
   "source": []
  }
 ],
 "metadata": {
  "kernelspec": {
   "display_name": "Python [conda env:praveen_tfu]",
   "language": "python",
   "name": "conda-env-praveen_tfu-py"
  },
  "language_info": {
   "codemirror_mode": {
    "name": "ipython",
    "version": 3
   },
   "file_extension": ".py",
   "mimetype": "text/x-python",
   "name": "python",
   "nbconvert_exporter": "python",
   "pygments_lexer": "ipython3",
   "version": "3.6.8"
  }
 },
 "nbformat": 4,
 "nbformat_minor": 4
}
