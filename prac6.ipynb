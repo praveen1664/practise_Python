{
 "cells": [
  {
   "cell_type": "code",
   "execution_count": 2,
   "metadata": {},
   "outputs": [],
   "source": [
    "import sys"
   ]
  },
  {
   "cell_type": "code",
   "execution_count": 3,
   "metadata": {},
   "outputs": [
    {
     "data": {
      "text/plain": [
       "'3.6.8 |Anaconda, Inc.| (default, Dec 30 2018, 01:22:34) \\n[GCC 7.3.0]'"
      ]
     },
     "execution_count": 3,
     "metadata": {},
     "output_type": "execute_result"
    }
   ],
   "source": [
    "sys.version"
   ]
  },
  {
   "cell_type": "code",
   "execution_count": 4,
   "metadata": {},
   "outputs": [
    {
     "data": {
      "text/plain": [
       "'3'"
      ]
     },
     "execution_count": 4,
     "metadata": {},
     "output_type": "execute_result"
    }
   ],
   "source": [
    "sys.version[0]"
   ]
  },
  {
   "cell_type": "code",
   "execution_count": 5,
   "metadata": {},
   "outputs": [
    {
     "data": {
      "text/plain": [
       "sys.version_info(major=3, minor=6, micro=8, releaselevel='final', serial=0)"
      ]
     },
     "execution_count": 5,
     "metadata": {},
     "output_type": "execute_result"
    }
   ],
   "source": [
    "sys.version_info"
   ]
  },
  {
   "cell_type": "code",
   "execution_count": 6,
   "metadata": {},
   "outputs": [],
   "source": [
    "import platform"
   ]
  },
  {
   "cell_type": "code",
   "execution_count": 9,
   "metadata": {},
   "outputs": [
    {
     "data": {
      "text/plain": [
       "<module 'os' from '/app1/anaconda3/envs/praveen_tfu/lib/python3.6/os.py'>"
      ]
     },
     "execution_count": 9,
     "metadata": {},
     "output_type": "execute_result"
    }
   ],
   "source": [
    "platform.os"
   ]
  },
  {
   "cell_type": "code",
   "execution_count": 11,
   "metadata": {},
   "outputs": [
    {
     "data": {
      "text/plain": [
       "'#1 SMP Tue Jul 26 14:15:37 UTC 2022'"
      ]
     },
     "execution_count": 11,
     "metadata": {},
     "output_type": "execute_result"
    }
   ],
   "source": [
    "platform.version()"
   ]
  },
  {
   "cell_type": "code",
   "execution_count": 12,
   "metadata": {},
   "outputs": [],
   "source": [
    "import datetime"
   ]
  },
  {
   "cell_type": "code",
   "execution_count": 18,
   "metadata": {},
   "outputs": [],
   "source": [
    "now=datetime.datetime.now()"
   ]
  },
  {
   "cell_type": "code",
   "execution_count": 21,
   "metadata": {},
   "outputs": [
    {
     "data": {
      "text/plain": [
       "'22//11//08 03::22::12'"
      ]
     },
     "execution_count": 21,
     "metadata": {},
     "output_type": "execute_result"
    }
   ],
   "source": [
    "now.strftime(\"%y//%m//%d %H::%M::%S\")"
   ]
  },
  {
   "cell_type": "code",
   "execution_count": 22,
   "metadata": {},
   "outputs": [],
   "source": [
    "def char_re(st):\n",
    "    return st[0]+st[1:].replace(st[0],\"pakoda\")"
   ]
  },
  {
   "cell_type": "code",
   "execution_count": 25,
   "metadata": {},
   "outputs": [
    {
     "name": "stdout",
     "output_type": "stream",
     "text": [
      "12\n"
     ]
    }
   ],
   "source": [
    "print(len(char_re(\"restart\")))"
   ]
  },
  {
   "cell_type": "code",
   "execution_count": 32,
   "metadata": {},
   "outputs": [
    {
     "name": "stdout",
     "output_type": "stream",
     "text": [
      "Enter cxomma sep list of worsds\n",
      "red, Green, Blue\n"
     ]
    },
    {
     "data": {
      "text/plain": [
       "[' Blue', ' Green', 'red']"
      ]
     },
     "execution_count": 32,
     "metadata": {},
     "output_type": "execute_result"
    }
   ],
   "source": [
    "sorted(set(list(input(\"Enter cxomma sep list of worsds\\n\").split(','))))"
   ]
  },
  {
   "cell_type": "code",
   "execution_count": 34,
   "metadata": {},
   "outputs": [
    {
     "name": "stdout",
     "output_type": "stream",
     "text": [
      "Enter the stringPraveen is a good bioy\n"
     ]
    },
    {
     "data": {
      "text/plain": [
       "'bioy good a is Praveen'"
      ]
     },
     "execution_count": 34,
     "metadata": {},
     "output_type": "execute_result"
    }
   ],
   "source": [
    "\" \".join(input(\"Enter the string\").split()[::-1])"
   ]
  },
  {
   "cell_type": "code",
   "execution_count": 40,
   "metadata": {},
   "outputs": [
    {
     "name": "stdout",
     "output_type": "stream",
     "text": [
      "Enter the stringPraveen is a good boy\n"
     ]
    },
    {
     "data": {
      "text/plain": [
       "'yob doog a si neevarP'"
      ]
     },
     "execution_count": 40,
     "metadata": {},
     "output_type": "execute_result"
    }
   ],
   "source": [
    "input(\"Enter the string\")[::-1]"
   ]
  },
  {
   "cell_type": "code",
   "execution_count": 41,
   "metadata": {},
   "outputs": [],
   "source": [
    "from collections import Counter"
   ]
  },
  {
   "cell_type": "code",
   "execution_count": 42,
   "metadata": {},
   "outputs": [],
   "source": [
    "str1 = 'thequickbrownfoxjumpsoverthelazydog'"
   ]
  },
  {
   "cell_type": "code",
   "execution_count": 43,
   "metadata": {},
   "outputs": [],
   "source": [
    "c=Counter(str1)"
   ]
  },
  {
   "cell_type": "code",
   "execution_count": 49,
   "metadata": {},
   "outputs": [
    {
     "data": {
      "text/plain": [
       "4"
      ]
     },
     "execution_count": 49,
     "metadata": {},
     "output_type": "execute_result"
    }
   ],
   "source": [
    "c.get('o')"
   ]
  },
  {
   "cell_type": "code",
   "execution_count": 50,
   "metadata": {},
   "outputs": [],
   "source": [
    "from collections import defaultdict"
   ]
  },
  {
   "cell_type": "code",
   "execution_count": 54,
   "metadata": {},
   "outputs": [
    {
     "name": "stdout",
     "output_type": "stream",
     "text": [
      "t\n",
      "h\n",
      "e\n",
      "q\n",
      "u\n",
      "i\n",
      "c\n",
      "k\n",
      "b\n",
      "r\n",
      "o\n",
      "w\n",
      "n\n",
      "f\n",
      "o\n",
      "x\n",
      "j\n",
      "u\n",
      "m\n",
      "p\n",
      "s\n",
      "o\n",
      "v\n",
      "e\n",
      "r\n",
      "t\n",
      "h\n",
      "e\n",
      "l\n",
      "a\n",
      "z\n",
      "y\n",
      "d\n",
      "o\n",
      "g\n"
     ]
    }
   ],
   "source": [
    "d=defaultdict(int)\n",
    "for c in str1:\n",
    "    print(c)\n",
    "    d[c]+=1"
   ]
  },
  {
   "cell_type": "code",
   "execution_count": 56,
   "metadata": {},
   "outputs": [
    {
     "data": {
      "text/plain": [
       "['a',\n",
       " 'b',\n",
       " 'c',\n",
       " 'd',\n",
       " 'e',\n",
       " 'f',\n",
       " 'g',\n",
       " 'h',\n",
       " 'i',\n",
       " 'j',\n",
       " 'k',\n",
       " 'l',\n",
       " 'm',\n",
       " 'n',\n",
       " 'o',\n",
       " 'p',\n",
       " 'q',\n",
       " 'r',\n",
       " 's',\n",
       " 't',\n",
       " 'u',\n",
       " 'v',\n",
       " 'w',\n",
       " 'x',\n",
       " 'y',\n",
       " 'z']"
      ]
     },
     "execution_count": 56,
     "metadata": {},
     "output_type": "execute_result"
    }
   ],
   "source": [
    "sorted(d)"
   ]
  },
  {
   "cell_type": "code",
   "execution_count": 57,
   "metadata": {},
   "outputs": [
    {
     "data": {
      "text/plain": [
       "defaultdict(int,\n",
       "            {'t': 2,\n",
       "             'h': 2,\n",
       "             'e': 3,\n",
       "             'q': 1,\n",
       "             'u': 2,\n",
       "             'i': 1,\n",
       "             'c': 1,\n",
       "             'k': 1,\n",
       "             'b': 1,\n",
       "             'r': 2,\n",
       "             'o': 4,\n",
       "             'w': 1,\n",
       "             'n': 1,\n",
       "             'f': 1,\n",
       "             'x': 1,\n",
       "             'j': 1,\n",
       "             'm': 1,\n",
       "             'p': 1,\n",
       "             's': 1,\n",
       "             'v': 1,\n",
       "             'l': 1,\n",
       "             'a': 1,\n",
       "             'z': 1,\n",
       "             'y': 1,\n",
       "             'd': 1,\n",
       "             'g': 1})"
      ]
     },
     "execution_count": 57,
     "metadata": {},
     "output_type": "execute_result"
    }
   ],
   "source": [
    "d"
   ]
  },
  {
   "cell_type": "code",
   "execution_count": 61,
   "metadata": {},
   "outputs": [],
   "source": [
    "a=sorted(d,key=d.get,reverse=True)"
   ]
  },
  {
   "cell_type": "code",
   "execution_count": 62,
   "metadata": {},
   "outputs": [
    {
     "data": {
      "text/plain": [
       "['o',\n",
       " 'e',\n",
       " 't',\n",
       " 'h',\n",
       " 'u',\n",
       " 'r',\n",
       " 'q',\n",
       " 'i',\n",
       " 'c',\n",
       " 'k',\n",
       " 'b',\n",
       " 'w',\n",
       " 'n',\n",
       " 'f',\n",
       " 'x',\n",
       " 'j',\n",
       " 'm',\n",
       " 'p',\n",
       " 's',\n",
       " 'v',\n",
       " 'l',\n",
       " 'a',\n",
       " 'z',\n",
       " 'y',\n",
       " 'd',\n",
       " 'g']"
      ]
     },
     "execution_count": 62,
     "metadata": {},
     "output_type": "execute_result"
    }
   ],
   "source": [
    "a"
   ]
  },
  {
   "cell_type": "code",
   "execution_count": 63,
   "metadata": {},
   "outputs": [],
   "source": [
    "import sys\n",
    "import os\n",
    "import re"
   ]
  },
  {
   "cell_type": "code",
   "execution_count": 67,
   "metadata": {},
   "outputs": [
    {
     "data": {
      "text/plain": [
       "'rn000019852'"
      ]
     },
     "execution_count": 67,
     "metadata": {},
     "output_type": "execute_result"
    }
   ],
   "source": [
    "os.uname()[1]"
   ]
  },
  {
   "cell_type": "code",
   "execution_count": 69,
   "metadata": {},
   "outputs": [],
   "source": [
    "def issstringallowed(st1):\n",
    "    charre=re.compile(r'[a-zA-Z]')\n",
    "    st=charre.search(st1)\n",
    "    print(st)\n",
    "    return bool(st)"
   ]
  },
  {
   "cell_type": "code",
   "execution_count": 73,
   "metadata": {},
   "outputs": [
    {
     "name": "stdout",
     "output_type": "stream",
     "text": [
      "None\n"
     ]
    }
   ],
   "source": [
    "a=issstringallowed(\"123450\")"
   ]
  },
  {
   "cell_type": "code",
   "execution_count": 74,
   "metadata": {},
   "outputs": [
    {
     "data": {
      "text/plain": [
       "False"
      ]
     },
     "execution_count": 74,
     "metadata": {},
     "output_type": "execute_result"
    }
   ],
   "source": [
    "a"
   ]
  },
  {
   "cell_type": "code",
   "execution_count": 75,
   "metadata": {},
   "outputs": [],
   "source": [
    "def text_match(st1):\n",
    "    pattern='^[a-z]+_[A-Z]+$'\n",
    "    if re.search(pattern,st1):\n",
    "        return \"Found Match\"\n",
    "    else:\n",
    "        return \"No Match\""
   ]
  },
  {
   "cell_type": "code",
   "execution_count": 76,
   "metadata": {},
   "outputs": [
    {
     "name": "stdout",
     "output_type": "stream",
     "text": [
      "No Match\n"
     ]
    }
   ],
   "source": [
    "print(text_match(\"ac__B\"))"
   ]
  },
  {
   "cell_type": "code",
   "execution_count": 82,
   "metadata": {},
   "outputs": [
    {
     "name": "stdout",
     "output_type": "stream",
     "text": [
      "Appending to logfile\n"
     ]
    }
   ],
   "source": [
    "%%writefile -a logfile\n",
    "Jun 12 18:11:51:498 [139681125603136] dut: Device State: OF\n",
    "Jul 11 16:11:51:490 [139681125603136] dut: Device State: ON\n",
    "Aug 21 16:11:51:490 [139681125603136] dut: Device State: OF\n",
    "Sep 10 10:13:51:490 [139681125603136] dut: Device State: ERR  "
   ]
  },
  {
   "cell_type": "code",
   "execution_count": 103,
   "metadata": {},
   "outputs": [],
   "source": [
    "with open('logfile','r') as f:\n",
    "    a=f.readlines()\n",
    "    "
   ]
  },
  {
   "cell_type": "code",
   "execution_count": 104,
   "metadata": {},
   "outputs": [
    {
     "data": {
      "text/plain": [
       "['Jun 12 18:11:51:498 [139681125603136] dut: Device State: OF\\n',\n",
       " 'Jul 11 16:11:51:490 [139681125603136] dut: Device State: ON\\n',\n",
       " 'Aug 21 16:11:51:490 [139681125603136] dut: Device State: OF\\n',\n",
       " 'Sep 10 10:13:51:490 [139681125603136] dut: Device State: ERR  \\n',\n",
       " 'Jun 12 18:11:51:498 [139681125603136] dut: Device State: OF\\n',\n",
       " 'Jul 11 16:11:51:490 [139681125603136] dut: Device State: ON\\n',\n",
       " 'Aug 21 16:11:51:490 [139681125603136] dut: Device State: OF\\n',\n",
       " 'Sep 10 10:13:51:490 [139681125603136] dut: Device State: ERR  \\n']"
      ]
     },
     "execution_count": 104,
     "metadata": {},
     "output_type": "execute_result"
    }
   ],
   "source": [
    "a"
   ]
  },
  {
   "cell_type": "code",
   "execution_count": 105,
   "metadata": {},
   "outputs": [
    {
     "data": {
      "text/plain": [
       "list"
      ]
     },
     "execution_count": 105,
     "metadata": {},
     "output_type": "execute_result"
    }
   ],
   "source": [
    "type(a)"
   ]
  },
  {
   "cell_type": "code",
   "execution_count": 106,
   "metadata": {},
   "outputs": [
    {
     "data": {
      "text/plain": [
       "'Jul 11 16:11:51:490 [139681125603136] dut: Device State: ON\\n'"
      ]
     },
     "execution_count": 106,
     "metadata": {},
     "output_type": "execute_result"
    }
   ],
   "source": [
    "a[1]"
   ]
  },
  {
   "cell_type": "code",
   "execution_count": 111,
   "metadata": {},
   "outputs": [
    {
     "data": {
      "text/plain": [
       "{'OF': ['Device', 'State:'],\n",
       " 'ON': ['Device', 'State:'],\n",
       " 'ERR': ['Device', 'State:']}"
      ]
     },
     "execution_count": 111,
     "metadata": {},
     "output_type": "execute_result"
    }
   ],
   "source": [
    "{l.split()[-1]:l.split()[-3:-1] for l in a}"
   ]
  },
  {
   "cell_type": "code",
   "execution_count": 132,
   "metadata": {},
   "outputs": [],
   "source": [
    "def find_num(text):\n",
    "    pattern='\\d{2,}'\n",
    "#     pattern='\\d{2,}'\n",
    "#     match=re.findall(pattern,text)\n",
    "    match=re.findall(pattern,text)\n",
    "#     if match:\n",
    "    if match:\n",
    "        for m in match:\n",
    "            print(m)\n",
    "    else:\n",
    "        print(\"Ghanta\")"
   ]
  },
  {
   "cell_type": "code",
   "execution_count": 133,
   "metadata": {},
   "outputs": [],
   "source": [
    "string=\"Exercises number 1, 12, 1321, and 345 are important\""
   ]
  },
  {
   "cell_type": "code",
   "execution_count": 135,
   "metadata": {},
   "outputs": [
    {
     "name": "stdout",
     "output_type": "stream",
     "text": [
      "12\n",
      "1321\n",
      "345\n"
     ]
    }
   ],
   "source": [
    "find_num(string)"
   ]
  },
  {
   "cell_type": "code",
   "execution_count": 136,
   "metadata": {},
   "outputs": [],
   "source": [
    "def end_num(text):\n",
    "    pattern='\\d{2,}'\n",
    "    match=re.findall(pattern,text)\n",
    "    if match:\n",
    "        for m in match:\n",
    "            print(m)\n",
    "    else:\n",
    "        print(\"Ghanta\")"
   ]
  },
  {
   "cell_type": "code",
   "execution_count": 137,
   "metadata": {},
   "outputs": [
    {
     "name": "stdout",
     "output_type": "stream",
     "text": [
      "12\n",
      "1321\n",
      "345\n"
     ]
    }
   ],
   "source": [
    "end_num(string)"
   ]
  },
  {
   "cell_type": "code",
   "execution_count": 138,
   "metadata": {},
   "outputs": [],
   "source": [
    "import re\n",
    "ip = \" 0216.08.0904. 1960    \""
   ]
  },
  {
   "cell_type": "code",
   "execution_count": 144,
   "metadata": {},
   "outputs": [
    {
     "data": {
      "text/plain": [
       "' 0216.08.0904. 1960'"
      ]
     },
     "execution_count": 144,
     "metadata": {},
     "output_type": "execute_result"
    }
   ],
   "source": [
    "re.sub('\\s+$','',ip)"
   ]
  },
  {
   "cell_type": "code",
   "execution_count": 145,
   "metadata": {},
   "outputs": [],
   "source": [
    "url1= \"https://www.washingtonpost.com/news/football-insider/wp/2016/09/02/odell-beckhams-fame-rests-on-one-stupid-little-ball-josh-norman-tells-author/\""
   ]
  },
  {
   "cell_type": "code",
   "execution_count": 155,
   "metadata": {},
   "outputs": [],
   "source": [
    "pattern='\\d+.*\\d+.*\\d+'"
   ]
  },
  {
   "cell_type": "code",
   "execution_count": 156,
   "metadata": {},
   "outputs": [],
   "source": [
    "m=re.findall(pattern,url1)"
   ]
  },
  {
   "cell_type": "code",
   "execution_count": 159,
   "metadata": {},
   "outputs": [
    {
     "data": {
      "text/plain": [
       "['2016', '09', '02']"
      ]
     },
     "execution_count": 159,
     "metadata": {},
     "output_type": "execute_result"
    }
   ],
   "source": [
    "m[0].split('/')"
   ]
  },
  {
   "cell_type": "code",
   "execution_count": 168,
   "metadata": {},
   "outputs": [],
   "source": [
    "pattern='(\\d{4}).*(\\d{2}).*(\\d{2})'"
   ]
  },
  {
   "cell_type": "code",
   "execution_count": 169,
   "metadata": {},
   "outputs": [],
   "source": [
    "m=re.findall(pattern,url1)"
   ]
  },
  {
   "cell_type": "code",
   "execution_count": 170,
   "metadata": {},
   "outputs": [
    {
     "data": {
      "text/plain": [
       "[('2016', '09', '02')]"
      ]
     },
     "execution_count": 170,
     "metadata": {},
     "output_type": "execute_result"
    }
   ],
   "source": [
    "m"
   ]
  },
  {
   "cell_type": "code",
   "execution_count": 172,
   "metadata": {},
   "outputs": [
    {
     "data": {
      "text/plain": [
       "'https://www.washingtonpost.com/news/football-insider/wp/02-09-2016/odell-beckhams-fame-rests-on-one-stupid-little-ball-josh-norman-tells-author/'"
      ]
     },
     "execution_count": 172,
     "metadata": {},
     "output_type": "execute_result"
    }
   ],
   "source": [
    "re.sub(pattern,\"\\\\3-\\\\2-\\\\1\",url1)"
   ]
  },
  {
   "cell_type": "code",
   "execution_count": 173,
   "metadata": {},
   "outputs": [
    {
     "data": {
      "text/plain": [
       "<function posix.cpu_count()>"
      ]
     },
     "execution_count": 173,
     "metadata": {},
     "output_type": "execute_result"
    }
   ],
   "source": [
    "os.cpu_count"
   ]
  },
  {
   "cell_type": "code",
   "execution_count": 174,
   "metadata": {},
   "outputs": [
    {
     "data": {
      "text/plain": [
       "posix.uname_result(sysname='Linux', nodename='rn000019852', release='3.10.0-1160.76.1.el7.x86_64', version='#1 SMP Tue Jul 26 14:15:37 UTC 2022', machine='x86_64')"
      ]
     },
     "execution_count": 174,
     "metadata": {},
     "output_type": "execute_result"
    }
   ],
   "source": [
    "os.uname()"
   ]
  },
  {
   "cell_type": "code",
   "execution_count": 175,
   "metadata": {},
   "outputs": [
    {
     "data": {
      "text/plain": [
       "'/app1/jupyter/p28/Study/python_practice'"
      ]
     },
     "execution_count": 175,
     "metadata": {},
     "output_type": "execute_result"
    }
   ],
   "source": [
    "os.getcwd()"
   ]
  },
  {
   "cell_type": "code",
   "execution_count": 176,
   "metadata": {},
   "outputs": [
    {
     "data": {
      "text/plain": [
       "['.ipynb_checkpoints',\n",
       " '1.ipynb',\n",
       " 'letters',\n",
       " 'words1.txt',\n",
       " 'p2.txt',\n",
       " 'abc.txt',\n",
       " 'let',\n",
       " 'let1',\n",
       " 'ak.txt',\n",
       " 'ak',\n",
       " 'Untitled.ipynb',\n",
       " 'os.ipynb',\n",
       " 're.ipynb',\n",
       " 'logfile',\n",
       " 'program.ipynb',\n",
       " 'class.ipynb',\n",
       " 'tf.ipynb',\n",
       " 'pract.ipynb',\n",
       " 'prac2.ipynb',\n",
       " 'prac5.ipynb',\n",
       " 'test1.txt',\n",
       " 'richida',\n",
       " 'gog',\n",
       " 'f1.ipynb',\n",
       " 'Untitled1.ipynb',\n",
       " 'prac6.ipynb']"
      ]
     },
     "execution_count": 176,
     "metadata": {},
     "output_type": "execute_result"
    }
   ],
   "source": [
    "os.listdir(os.getcwd())"
   ]
  },
  {
   "cell_type": "code",
   "execution_count": 178,
   "metadata": {},
   "outputs": [
    {
     "data": {
      "text/plain": [
       "'/app1/anaconda3/envs/praveen_tfu/lib/python3.6'"
      ]
     },
     "execution_count": 178,
     "metadata": {},
     "output_type": "execute_result"
    }
   ],
   "source": [
    "os.path.abspath(os.path.dirname(os.__file__))"
   ]
  },
  {
   "cell_type": "code",
   "execution_count": 181,
   "metadata": {},
   "outputs": [
    {
     "name": "stdout",
     "output_type": "stream",
     "text": [
      "/app1/jupyter/p28/Study/python_practice\n",
      "['.ipynb_checkpoints', 'letters', 'let', 'let1', 'richida']\n",
      "['1.ipynb', 'words1.txt', 'p2.txt', 'abc.txt', 'ak.txt', 'ak', 'Untitled.ipynb', 'os.ipynb', 're.ipynb', 'logfile', 'program.ipynb', 'class.ipynb', 'tf.ipynb', 'pract.ipynb', 'prac2.ipynb', 'prac5.ipynb', 'test1.txt', 'gog', 'f1.ipynb', 'Untitled1.ipynb', 'prac6.ipynb']\n",
      "/app1/jupyter/p28/Study/python_practice/.ipynb_checkpoints\n",
      "[]\n",
      "['1-checkpoint.ipynb', 'Untitled-checkpoint.ipynb', 'os-checkpoint.ipynb', 're-checkpoint.ipynb', 'program-checkpoint.ipynb', 'class-checkpoint.ipynb', 'tf-checkpoint.ipynb', 'pract-checkpoint.ipynb', 'prac2-checkpoint.ipynb', 'prac5-checkpoint.ipynb', 'f1-checkpoint.ipynb', 'Untitled1-checkpoint.ipynb', 'prac6-checkpoint.ipynb']\n",
      "/app1/jupyter/p28/Study/python_practice/letters\n",
      "[]\n",
      "['A.txt', 'B.txt', 'C.txt', 'D.txt', 'E.txt', 'F.txt', 'G.txt', 'H.txt', 'I.txt', 'J.txt', 'K.txt', 'L.txt', 'M.txt', 'N.txt', 'O.txt', 'P.txt', 'Q.txt', 'R.txt', 'S.txt', 'T.txt', 'U.txt', 'V.txt', 'W.txt', 'X.txt', 'Y.txt', 'Z.txt']\n",
      "/app1/jupyter/p28/Study/python_practice/let\n",
      "[]\n",
      "['A.txt', 'B.txt', 'C.txt', 'D.txt', 'E.txt', 'F.txt', 'G.txt', 'H.txt', 'I.txt', 'J.txt', 'K.txt', 'L.txt', 'M.txt', 'N.txt', 'O.txt', 'P.txt', 'Q.txt', 'R.txt', 'S.txt', 'T.txt', 'U.txt', 'V.txt', 'W.txt', 'X.txt', 'Y.txt', 'Z.txt']\n",
      "/app1/jupyter/p28/Study/python_practice/let1\n",
      "[]\n",
      "['A.txt', 'B.txt', 'C.txt', 'D.txt', 'E.txt', 'F.txt', 'G.txt', 'H.txt', 'I.txt', 'J.txt', 'K.txt', 'L.txt', 'M.txt', 'N.txt', 'O.txt', 'P.txt', 'Q.txt', 'R.txt', 'S.txt', 'T.txt', 'U.txt', 'V.txt', 'W.txt', 'X.txt', 'Y.txt', 'Z.txt']\n",
      "/app1/jupyter/p28/Study/python_practice/richida\n",
      "[]\n",
      "['A.txt', 'B.txt', 'C.txt', 'D.txt', 'E.txt', 'F.txt', 'G.txt', 'H.txt', 'I.txt', 'J.txt', 'K.txt', 'L.txt', 'M.txt', 'N.txt', 'O.txt', 'P.txt', 'Q.txt', 'R.txt', 'S.txt', 'T.txt', 'U.txt', 'V.txt', 'W.txt', 'X.txt', 'Y.txt', 'Z.txt']\n"
     ]
    }
   ],
   "source": [
    "for path,dirname,filename in os.walk(os.getcwd()):\n",
    "    print(path)\n",
    "    print(dirname)\n",
    "    print(filename)"
   ]
  },
  {
   "cell_type": "code",
   "execution_count": 182,
   "metadata": {},
   "outputs": [],
   "source": [
    "def fibnoicii(n):\n",
    "    if n==0:\n",
    "        return('Incorrect Input')\n",
    "    elif n==1:\n",
    "        return 0\n",
    "    elif n==2:\n",
    "        return 1\n",
    "    else:\n",
    "        return fibnoicii(n-1)+fibnoicii(n-2)"
   ]
  },
  {
   "cell_type": "code",
   "execution_count": 186,
   "metadata": {},
   "outputs": [
    {
     "name": "stdout",
     "output_type": "stream",
     "text": [
      "0\n",
      "1\n",
      "1\n",
      "2\n",
      "3\n",
      "5\n",
      "8\n",
      "13\n",
      "21\n"
     ]
    }
   ],
   "source": [
    "for i in range(1,10):\n",
    "    print(fibnoicii(i))"
   ]
  },
  {
   "cell_type": "code",
   "execution_count": 195,
   "metadata": {},
   "outputs": [],
   "source": [
    "a=[n for n in os.scandir(os.getcwd()) if os.path.isfile(os.path.join(os.getcwd(),n)) if os.access(os.path.join(os.getcwd(),n),os.EX_OK)]"
   ]
  },
  {
   "cell_type": "code",
   "execution_count": 197,
   "metadata": {},
   "outputs": [
    {
     "data": {
      "text/plain": [
       "<DirEntry '1.ipynb'>"
      ]
     },
     "execution_count": 197,
     "metadata": {},
     "output_type": "execute_result"
    }
   ],
   "source": [
    "a[0]"
   ]
  },
  {
   "cell_type": "code",
   "execution_count": null,
   "metadata": {},
   "outputs": [],
   "source": []
  }
 ],
 "metadata": {
  "kernelspec": {
   "display_name": "Python [conda env:praveen_tfu]",
   "language": "python",
   "name": "conda-env-praveen_tfu-py"
  },
  "language_info": {
   "codemirror_mode": {
    "name": "ipython",
    "version": 3
   },
   "file_extension": ".py",
   "mimetype": "text/x-python",
   "name": "python",
   "nbconvert_exporter": "python",
   "pygments_lexer": "ipython3",
   "version": "3.6.8"
  }
 },
 "nbformat": 4,
 "nbformat_minor": 4
}
