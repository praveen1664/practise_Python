{
 "cells": [
  {
   "cell_type": "code",
   "execution_count": 1,
   "metadata": {},
   "outputs": [],
   "source": [
    "def return_sum(n):\n",
    "    return sum(list(range(n+1)))"
   ]
  },
  {
   "cell_type": "code",
   "execution_count": 2,
   "metadata": {},
   "outputs": [
    {
     "data": {
      "text/plain": [
       "55"
      ]
     },
     "execution_count": 2,
     "metadata": {},
     "output_type": "execute_result"
    }
   ],
   "source": [
    "return_sum(10)"
   ]
  },
  {
   "cell_type": "code",
   "execution_count": 20,
   "metadata": {},
   "outputs": [
    {
     "data": {
      "text/plain": [
       "65"
      ]
     },
     "execution_count": 20,
     "metadata": {},
     "output_type": "execute_result"
    }
   ],
   "source": [
    "ord('A')"
   ]
  },
  {
   "cell_type": "code",
   "execution_count": 8,
   "metadata": {},
   "outputs": [
    {
     "data": {
      "text/plain": [
       "90"
      ]
     },
     "execution_count": 8,
     "metadata": {},
     "output_type": "execute_result"
    }
   ],
   "source": [
    "ord('Z')"
   ]
  },
  {
   "cell_type": "code",
   "execution_count": 21,
   "metadata": {},
   "outputs": [
    {
     "data": {
      "text/plain": [
       "97"
      ]
     },
     "execution_count": 21,
     "metadata": {},
     "output_type": "execute_result"
    }
   ],
   "source": [
    "ord('a')"
   ]
  },
  {
   "cell_type": "code",
   "execution_count": 25,
   "metadata": {},
   "outputs": [
    {
     "data": {
      "text/plain": [
       "122"
      ]
     },
     "execution_count": 25,
     "metadata": {},
     "output_type": "execute_result"
    }
   ],
   "source": [
    "(ord('z'))"
   ]
  },
  {
   "cell_type": "code",
   "execution_count": 10,
   "metadata": {},
   "outputs": [
    {
     "data": {
      "text/plain": [
       "'\\\\'"
      ]
     },
     "execution_count": 10,
     "metadata": {},
     "output_type": "execute_result"
    }
   ],
   "source": [
    "chr(92)"
   ]
  },
  {
   "cell_type": "code",
   "execution_count": 11,
   "metadata": {},
   "outputs": [],
   "source": [
    "st='This is praveen'"
   ]
  },
  {
   "cell_type": "code",
   "execution_count": 17,
   "metadata": {},
   "outputs": [
    {
     "data": {
      "text/plain": [
       "[['T', 'h', 'i', 's'], ['i', 's'], ['p', 'r', 'a', 'v', 'e', 'e', 'n']]"
      ]
     },
     "execution_count": 17,
     "metadata": {},
     "output_type": "execute_result"
    }
   ],
   "source": [
    "[list(w) for w in st.split()]"
   ]
  },
  {
   "cell_type": "code",
   "execution_count": 18,
   "metadata": {},
   "outputs": [
    {
     "data": {
      "text/plain": [
       "['T', 'h', 'i', 's', ' ', 'i', 's', ' ', 'p', 'r', 'a', 'v', 'e', 'e', 'n']"
      ]
     },
     "execution_count": 18,
     "metadata": {},
     "output_type": "execute_result"
    }
   ],
   "source": [
    "list(st)"
   ]
  },
  {
   "cell_type": "code",
   "execution_count": 41,
   "metadata": {},
   "outputs": [],
   "source": [
    "def caesar_cipher(str1,n):\n",
    "    a=[chr((ord(w)+n)) if (ord(w)+n) in range(97,123) or (ord(w)+n) in range(65,91) else w for w in list(str1)]\n",
    "    return ' '.join([chr(97) if ord(w)>=122+n else chr(ord(w)) for w in a])\n",
    "                                                                    \n",
    "                                                                    \n",
    "                        \n",
    "                      \n",
    "                      \n",
    "            \n",
    "        "
   ]
  },
  {
   "cell_type": "code",
   "execution_count": 39,
   "metadata": {},
   "outputs": [
    {
     "data": {
      "text/plain": [
       "'Q s b w f f o   j t   n z   o b n f'"
      ]
     },
     "execution_count": 39,
     "metadata": {},
     "output_type": "execute_result"
    }
   ],
   "source": [
    "caesar_cipher('Praveen is my name',1)"
   ]
  },
  {
   "cell_type": "code",
   "execution_count": 42,
   "metadata": {},
   "outputs": [
    {
     "name": "stdout",
     "output_type": "stream",
     "text": [
      "[[2], [4], [6], [8]]\n"
     ]
    }
   ],
   "source": [
    "list = [[2,4,6,8]]\n",
    "matrix = [[row[i] for row in list] for i in range(4)]\n",
    "print(matrix)"
   ]
  },
  {
   "cell_type": "code",
   "execution_count": 43,
   "metadata": {},
   "outputs": [
    {
     "name": "stdout",
     "output_type": "stream",
     "text": [
      "Writing logfile\n"
     ]
    }
   ],
   "source": [
    "%%writefile logfile\n",
    "Jun 12 18:11:51:498 [139681125603136] dut: Device State: OF\n",
    "Jul 11 16:11:51:490 [139681125603136] dut: Device State: ON\n",
    "Aug 21 16:11:51:490 [139681125603136] dut: Device State: OF\n",
    "Sep 10 10:13:51:490 [139681125603136] dut: Device State: ERR\n",
    "                    "
   ]
  },
  {
   "cell_type": "code",
   "execution_count": 44,
   "metadata": {},
   "outputs": [],
   "source": [
    "import datetime\n",
    "import sys\n",
    "import os"
   ]
  },
  {
   "cell_type": "code",
   "execution_count": 76,
   "metadata": {},
   "outputs": [],
   "source": [
    "with open('logfile','r') as f:\n",
    "    text=f.readlines()"
   ]
  },
  {
   "cell_type": "code",
   "execution_count": 77,
   "metadata": {},
   "outputs": [
    {
     "data": {
      "text/plain": [
       "list"
      ]
     },
     "execution_count": 77,
     "metadata": {},
     "output_type": "execute_result"
    }
   ],
   "source": [
    "type(text)"
   ]
  },
  {
   "cell_type": "code",
   "execution_count": 78,
   "metadata": {},
   "outputs": [
    {
     "data": {
      "text/plain": [
       "['Jun 12 18:11:51:498 [139681125603136] dut: Device State: OF\\n',\n",
       " 'Jul 11 16:11:51:490 [139681125603136] dut: Device State: ON\\n',\n",
       " 'Aug 21 16:11:51:490 [139681125603136] dut: Device State: OF\\n',\n",
       " 'Sep 10 10:13:51:490 [139681125603136] dut: Device State: ERR\\n',\n",
       " '                    \\n']"
      ]
     },
     "execution_count": 78,
     "metadata": {},
     "output_type": "execute_result"
    }
   ],
   "source": [
    "text"
   ]
  },
  {
   "cell_type": "code",
   "execution_count": 92,
   "metadata": {},
   "outputs": [],
   "source": [
    "word_dict={line.split()[-1]:line for line in text[:-1]}\n",
    "    "
   ]
  },
  {
   "cell_type": "code",
   "execution_count": 93,
   "metadata": {},
   "outputs": [
    {
     "data": {
      "text/plain": [
       "{'OF': 'Aug 21 16:11:51:490 [139681125603136] dut: Device State: OF\\n',\n",
       " 'ON': 'Jul 11 16:11:51:490 [139681125603136] dut: Device State: ON\\n',\n",
       " 'ERR': 'Sep 10 10:13:51:490 [139681125603136] dut: Device State: ERR\\n'}"
      ]
     },
     "execution_count": 93,
     "metadata": {},
     "output_type": "execute_result"
    }
   ],
   "source": [
    "word_dict"
   ]
  },
  {
   "cell_type": "code",
   "execution_count": 95,
   "metadata": {},
   "outputs": [
    {
     "name": "stdout",
     "output_type": "stream",
     "text": [
      "OF\n",
      "ON\n",
      "ERR\n"
     ]
    }
   ],
   "source": [
    "for k,v in word_dict.items():\n",
    "    if k=='ON':\n",
    "        flag=1\n",
    "    elif "
   ]
  },
  {
   "cell_type": "code",
   "execution_count": 108,
   "metadata": {},
   "outputs": [
    {
     "name": "stdout",
     "output_type": "stream",
     "text": [
      "OF\n",
      "1900-06-12 18:11:51.498000\n",
      "ON\n",
      "1900-07-11 16:11:51.490000\n",
      "OF\n",
      "1900-08-21 16:11:51.490000\n",
      "ERR\n",
      "1900-09-10 10:13:51.490000\n"
     ]
    }
   ],
   "source": [
    "    with open('logfile','r') as f:\n",
    "        for line in f.readlines():\n",
    "            if \"dut: Device State: \" in line:\n",
    "                line = line.strip()\n",
    "                action=line.split()[-1]\n",
    "                print(action)\n",
    "                timestamp=line[:19]\n",
    "                tk1=datetime.datetime.strptime(timestamp,\"%b %d %H:%M:%S:%f\",)\n",
    "                print(timestamp)\n",
    "                print(tk)"
   ]
  },
  {
   "cell_type": "code",
   "execution_count": 102,
   "metadata": {},
   "outputs": [],
   "source": [
    "def get_next_event(filename):\n",
    "    with open('filename','r') as f:\n",
    "        for line in f.readlines():\n",
    "            if \"dut: Device State: \" in line:\n",
    "                line = line.strip()\n",
    "                action=line.split()[-1]\n",
    "                print(action)\n",
    "                timestamp=line[:19]\n",
    "                tk=datetime.datetime.strptime(timestamp)\n",
    "                print(timestamp)\n",
    "                print(tk)\n",
    "                yield(action,timestamp)\n",
    "            "
   ]
  },
  {
   "cell_type": "code",
   "execution_count": 110,
   "metadata": {},
   "outputs": [],
   "source": [
    "def fibnoicii(n):\n",
    "    if n==0:\n",
    "        return('Incorrect Input')\n",
    "    elif n==1:\n",
    "        return 0\n",
    "    elif n==2:\n",
    "        return 1\n",
    "    else:\n",
    "        return fibnoicii(n-1)+fibnoicii(n-2)\n",
    "    "
   ]
  },
  {
   "cell_type": "code",
   "execution_count": 111,
   "metadata": {},
   "outputs": [
    {
     "name": "stdout",
     "output_type": "stream",
     "text": [
      "34\n"
     ]
    }
   ],
   "source": [
    "print(fibnoicii(10))"
   ]
  },
  {
   "cell_type": "code",
   "execution_count": 113,
   "metadata": {},
   "outputs": [],
   "source": [
    "series={0:0,1:1}\n",
    "def fibno(n):\n",
    "    if n in series:\n",
    "        return series[n]\n",
    "    else:\n",
    "        series[n]=fibno(n-1)+fibno(n-2)\n",
    "    return series[n]"
   ]
  },
  {
   "cell_type": "code",
   "execution_count": null,
   "metadata": {},
   "outputs": [],
   "source": [
    "[fibno()"
   ]
  }
 ],
 "metadata": {
  "kernelspec": {
   "display_name": "Python [conda env:praveen_tfu]",
   "language": "python",
   "name": "conda-env-praveen_tfu-py"
  },
  "language_info": {
   "codemirror_mode": {
    "name": "ipython",
    "version": 3
   },
   "file_extension": ".py",
   "mimetype": "text/x-python",
   "name": "python",
   "nbconvert_exporter": "python",
   "pygments_lexer": "ipython3",
   "version": "3.6.8"
  }
 },
 "nbformat": 4,
 "nbformat_minor": 4
}
