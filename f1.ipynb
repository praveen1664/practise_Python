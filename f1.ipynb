{
 "cells": [
  {
   "cell_type": "code",
   "execution_count": 60,
   "metadata": {},
   "outputs": [],
   "source": [
    "import os"
   ]
  },
  {
   "cell_type": "code",
   "execution_count": 61,
   "metadata": {},
   "outputs": [
    {
     "data": {
      "text/plain": [
       "'.'"
      ]
     },
     "execution_count": 61,
     "metadata": {},
     "output_type": "execute_result"
    }
   ],
   "source": [
    "os.curdir"
   ]
  },
  {
   "cell_type": "code",
   "execution_count": 62,
   "metadata": {},
   "outputs": [
    {
     "data": {
      "text/plain": [
       "environ{'MANPATH': '/opt/quest/man:',\n",
       "        'XDG_SESSION_ID': '2',\n",
       "        'SPARK_HOME': '/app1/jupyter/p28/spark/spark',\n",
       "        'HOSTNAME': 'rn000019852',\n",
       "        'TERM': 'xterm-color',\n",
       "        'SHELL': '/bin/bash',\n",
       "        'TRANSFORMERS_CACHE': '/app1/TRANSFORMERS/cache',\n",
       "        'PYTORCH_TRANSFORMERS_CACHE': '/app1/p28_downloads/transformers',\n",
       "        'HISTSIZE': '1000',\n",
       "        'SSH_CLIENT': '10.195.235.139 55361 22',\n",
       "        'CONDA_SHLVL': '2',\n",
       "        'GOOGLE_APPLICATION_CREDENTIALS': '/home/p28/src/credentials.json',\n",
       "        'CONDA_PROMPT_MODIFIER': '(praveen_tfu) ',\n",
       "        'SSH_TTY': '/dev/pts/0',\n",
       "        'USER': 'p28',\n",
       "        'TEMP': '/app1/tmp',\n",
       "        'LS_COLORS': 'rs=0:di=01;34:ln=01;36:mh=00:pi=40;33:so=01;35:do=01;35:bd=40;33;01:cd=40;33;01:or=40;31;01:mi=01;05;37;41:su=37;41:sg=30;43:ca=30;41:tw=30;42:ow=34;42:st=37;44:ex=01;32:*.tar=01;31:*.tgz=01;31:*.arc=01;31:*.arj=01;31:*.taz=01;31:*.lha=01;31:*.lz4=01;31:*.lzh=01;31:*.lzma=01;31:*.tlz=01;31:*.txz=01;31:*.tzo=01;31:*.t7z=01;31:*.zip=01;31:*.z=01;31:*.Z=01;31:*.dz=01;31:*.gz=01;31:*.lrz=01;31:*.lz=01;31:*.lzo=01;31:*.xz=01;31:*.bz2=01;31:*.bz=01;31:*.tbz=01;31:*.tbz2=01;31:*.tz=01;31:*.deb=01;31:*.rpm=01;31:*.jar=01;31:*.war=01;31:*.ear=01;31:*.sar=01;31:*.rar=01;31:*.alz=01;31:*.ace=01;31:*.zoo=01;31:*.cpio=01;31:*.7z=01;31:*.rz=01;31:*.cab=01;31:*.jpg=01;35:*.jpeg=01;35:*.gif=01;35:*.bmp=01;35:*.pbm=01;35:*.pgm=01;35:*.ppm=01;35:*.tga=01;35:*.xbm=01;35:*.xpm=01;35:*.tif=01;35:*.tiff=01;35:*.png=01;35:*.svg=01;35:*.svgz=01;35:*.mng=01;35:*.pcx=01;35:*.mov=01;35:*.mpg=01;35:*.mpeg=01;35:*.m2v=01;35:*.mkv=01;35:*.webm=01;35:*.ogm=01;35:*.mp4=01;35:*.m4v=01;35:*.mp4v=01;35:*.vob=01;35:*.qt=01;35:*.nuv=01;35:*.wmv=01;35:*.asf=01;35:*.rm=01;35:*.rmvb=01;35:*.flc=01;35:*.avi=01;35:*.fli=01;35:*.flv=01;35:*.gl=01;35:*.dl=01;35:*.xcf=01;35:*.xwd=01;35:*.yuv=01;35:*.cgm=01;35:*.emf=01;35:*.axv=01;35:*.anx=01;35:*.ogv=01;35:*.ogx=01;35:*.aac=01;36:*.au=01;36:*.flac=01;36:*.mid=01;36:*.midi=01;36:*.mka=01;36:*.mp3=01;36:*.mpc=01;36:*.ogg=01;36:*.ra=01;36:*.wav=01;36:*.axa=01;36:*.oga=01;36:*.spx=01;36:*.xspf=01;36:',\n",
       "        'CONDA_EXE': '/app1/anaconda3/bin/conda',\n",
       "        'PYSPARK_PYTHON': 'python',\n",
       "        'PYSPARK_DRIVER_PYTHON': 'jupyter',\n",
       "        'TMOUT': '3600',\n",
       "        'JPY_PARENT_PID': '3249',\n",
       "        'GENSIM_DATA_DIR': '/app1/gensim',\n",
       "        '_CE_CONDA': '',\n",
       "        'CONDA_PREFIX_1': '/app1/anaconda3',\n",
       "        'NLTK_DATA': '/app1/jupyter/p28/stopwords/',\n",
       "        'MAIL': '/var/spool/mail/p28',\n",
       "        'PATH': '/app1/anaconda3/envs/praveen_tfu/bin:/app1/anaconda3/bin:/app1/anaconda3/bin:/app1/anaconda3/condabin:/home/p28/src/credentials.json:/app1/jupyter/p28/spark/spark:/app1/jupyter/p28/stopwords:/app1/anaconda3/bin:/usr/local/bin:/usr/bin:/usr/local/sbin:/usr/sbin:/opt/OV/bin:/opt/OV/contrib/OpC:/opt/OV/bin/OpC:/app1/openshift:/app1/geko:/home/p28/bin',\n",
       "        'GEKO': '/app1/geko',\n",
       "        'TEMPDIR': '/app1/tmp',\n",
       "        'CONDA_PREFIX': '/app1/anaconda3/envs/praveen_tfu',\n",
       "        'PWD': '/app1/jupyter/p28/Study/python_practice',\n",
       "        'LANG': 'en_US.UTF-8',\n",
       "        '_CE_M': '',\n",
       "        'HISTCONTROL': 'ignoredups',\n",
       "        'SHLVL': '2',\n",
       "        'HOME': '/home/p28',\n",
       "        'HF_DATASETS_CACHE': '/app1/TRANSFORMERS/datasets/',\n",
       "        'CONDA_PYTHON_EXE': '/app1/anaconda3/bin/python',\n",
       "        'PYTHONPATH': '/app1/jupyter/p28/spark/spark/python:',\n",
       "        'LOGNAME': 'p28',\n",
       "        'OPENSHIFT': '/app1/openshift/',\n",
       "        'SSH_CONNECTION': '10.195.235.139 55361 10.28.200.254 22',\n",
       "        'CONDA_DEFAULT_ENV': 'praveen_tfu',\n",
       "        'PYSPARK_DRIVER_PYTHON_OPTS': 'notebook',\n",
       "        'LESSOPEN': '||/usr/bin/lesspipe.sh %s',\n",
       "        'XDG_RUNTIME_DIR': '/run/user/283962',\n",
       "        'MINIKUBE_HOME': '/app1/minikube/',\n",
       "        'HISTTIMEFORMAT': '%F %T ',\n",
       "        'CLICOLOR': '1',\n",
       "        'PAGER': 'cat',\n",
       "        'GIT_PAGER': 'cat',\n",
       "        'MPLBACKEND': 'module://ipykernel.pylab.backend_inline'}"
      ]
     },
     "execution_count": 62,
     "metadata": {},
     "output_type": "execute_result"
    }
   ],
   "source": [
    "os.environ"
   ]
  },
  {
   "cell_type": "code",
   "execution_count": 63,
   "metadata": {},
   "outputs": [
    {
     "data": {
      "text/plain": [
       "'posix'"
      ]
     },
     "execution_count": 63,
     "metadata": {},
     "output_type": "execute_result"
    }
   ],
   "source": [
    "os.name"
   ]
  },
  {
   "cell_type": "code",
   "execution_count": 64,
   "metadata": {},
   "outputs": [],
   "source": [
    "os.altsep"
   ]
  },
  {
   "cell_type": "code",
   "execution_count": 65,
   "metadata": {},
   "outputs": [
    {
     "data": {
      "text/plain": [
       "<module 'abc' from '/app1/anaconda3/envs/praveen_tfu/lib/python3.6/abc.py'>"
      ]
     },
     "execution_count": 65,
     "metadata": {},
     "output_type": "execute_result"
    }
   ],
   "source": [
    "os.abc"
   ]
  },
  {
   "cell_type": "code",
   "execution_count": 66,
   "metadata": {},
   "outputs": [
    {
     "data": {
      "text/plain": [
       "<function posix.access(path, mode, *, dir_fd=None, effective_ids=False, follow_symlinks=True)>"
      ]
     },
     "execution_count": 66,
     "metadata": {},
     "output_type": "execute_result"
    }
   ],
   "source": [
    "os.access"
   ]
  },
  {
   "cell_type": "code",
   "execution_count": 67,
   "metadata": {},
   "outputs": [
    {
     "data": {
      "text/plain": [
       "'/app1/jupyter/p28/Study/python_practice'"
      ]
     },
     "execution_count": 67,
     "metadata": {},
     "output_type": "execute_result"
    }
   ],
   "source": [
    "os.getcwd()"
   ]
  },
  {
   "cell_type": "code",
   "execution_count": 68,
   "metadata": {},
   "outputs": [
    {
     "data": {
      "text/plain": [
       "b'/app1/jupyter/p28/Study/python_practice'"
      ]
     },
     "execution_count": 68,
     "metadata": {},
     "output_type": "execute_result"
    }
   ],
   "source": [
    "os.getcwdb()"
   ]
  },
  {
   "cell_type": "code",
   "execution_count": 69,
   "metadata": {},
   "outputs": [
    {
     "data": {
      "text/plain": [
       "<function posix.access(path, mode, *, dir_fd=None, effective_ids=False, follow_symlinks=True)>"
      ]
     },
     "execution_count": 69,
     "metadata": {},
     "output_type": "execute_result"
    }
   ],
   "source": [
    "os.access"
   ]
  },
  {
   "cell_type": "code",
   "execution_count": 70,
   "metadata": {},
   "outputs": [
    {
     "data": {
      "text/plain": [
       "'.'"
      ]
     },
     "execution_count": 70,
     "metadata": {},
     "output_type": "execute_result"
    }
   ],
   "source": [
    "os.curdir"
   ]
  },
  {
   "cell_type": "code",
   "execution_count": 71,
   "metadata": {},
   "outputs": [
    {
     "data": {
      "text/plain": [
       "<function posix.get_blocking>"
      ]
     },
     "execution_count": 71,
     "metadata": {},
     "output_type": "execute_result"
    }
   ],
   "source": [
    "os.get_blocking"
   ]
  },
  {
   "cell_type": "code",
   "execution_count": 72,
   "metadata": {},
   "outputs": [
    {
     "data": {
      "text/plain": [
       "['.ipynb_checkpoints',\n",
       " '1.ipynb',\n",
       " 'letters',\n",
       " 'words1.txt',\n",
       " 'p2.txt',\n",
       " 'abc.txt',\n",
       " 'let',\n",
       " 'let1',\n",
       " 'ak.txt',\n",
       " 'ak',\n",
       " 'Untitled.ipynb',\n",
       " 'os.ipynb',\n",
       " 're.ipynb',\n",
       " 'logfile',\n",
       " 'program.ipynb',\n",
       " 'class.ipynb',\n",
       " 'tf.ipynb',\n",
       " 'pract.ipynb',\n",
       " 'prac2.ipynb',\n",
       " 'prac5.ipynb',\n",
       " 'test1.txt',\n",
       " 'richida',\n",
       " 'gog',\n",
       " 'f1.ipynb']"
      ]
     },
     "execution_count": 72,
     "metadata": {},
     "output_type": "execute_result"
    }
   ],
   "source": [
    "os.listdir()"
   ]
  },
  {
   "cell_type": "code",
   "execution_count": 23,
   "metadata": {},
   "outputs": [],
   "source": [
    "import pathlib"
   ]
  },
  {
   "cell_type": "code",
   "execution_count": 25,
   "metadata": {},
   "outputs": [
    {
     "data": {
      "text/plain": [
       "'/app1/anaconda3/envs/praveen_tfu/lib/python3.6/os.py'"
      ]
     },
     "execution_count": 25,
     "metadata": {},
     "output_type": "execute_result"
    }
   ],
   "source": [
    "os.__file__"
   ]
  },
  {
   "cell_type": "code",
   "execution_count": 31,
   "metadata": {},
   "outputs": [
    {
     "data": {
      "text/plain": [
       "<generator object Path.glob at 0x7fe09f9c8d58>"
      ]
     },
     "execution_count": 31,
     "metadata": {},
     "output_type": "execute_result"
    }
   ],
   "source": [
    "pathlib.Path(os.__file__).parent.glob(\"*\")"
   ]
  },
  {
   "cell_type": "code",
   "execution_count": 38,
   "metadata": {},
   "outputs": [],
   "source": [
    "PATH=pathlib.Path(os.getcwd())"
   ]
  },
  {
   "cell_type": "code",
   "execution_count": 39,
   "metadata": {},
   "outputs": [
    {
     "data": {
      "text/plain": [
       "PosixPath('/app1/jupyter/p28/Study/python_practice')"
      ]
     },
     "execution_count": 39,
     "metadata": {},
     "output_type": "execute_result"
    }
   ],
   "source": [
    "PATH"
   ]
  },
  {
   "cell_type": "code",
   "execution_count": 40,
   "metadata": {},
   "outputs": [
    {
     "data": {
      "text/plain": [
       "['.ipynb_checkpoints', 'letters', 'let', 'let1', 'richida']"
      ]
     },
     "execution_count": 40,
     "metadata": {},
     "output_type": "execute_result"
    }
   ],
   "source": [
    "[n for n in os.listdir(pathlib.Path(os.getcwd())) if os.path.isdir(os.path.join(PATH,n))]"
   ]
  },
  {
   "cell_type": "code",
   "execution_count": 36,
   "metadata": {},
   "outputs": [
    {
     "data": {
      "text/plain": [
       "'..'"
      ]
     },
     "execution_count": 36,
     "metadata": {},
     "output_type": "execute_result"
    }
   ],
   "source": [
    "os.pardir"
   ]
  },
  {
   "cell_type": "code",
   "execution_count": 46,
   "metadata": {},
   "outputs": [
    {
     "data": {
      "text/plain": [
       "[<DirEntry '1.ipynb'>,\n",
       " <DirEntry 'words1.txt'>,\n",
       " <DirEntry 'p2.txt'>,\n",
       " <DirEntry 'abc.txt'>,\n",
       " <DirEntry 'ak.txt'>,\n",
       " <DirEntry 'ak'>,\n",
       " <DirEntry 'Untitled.ipynb'>,\n",
       " <DirEntry 'os.ipynb'>,\n",
       " <DirEntry 're.ipynb'>,\n",
       " <DirEntry 'logfile'>,\n",
       " <DirEntry 'program.ipynb'>,\n",
       " <DirEntry 'class.ipynb'>,\n",
       " <DirEntry 'tf.ipynb'>,\n",
       " <DirEntry 'pract.ipynb'>,\n",
       " <DirEntry 'prac2.ipynb'>,\n",
       " <DirEntry 'prac5.ipynb'>,\n",
       " <DirEntry 'test1.txt'>,\n",
       " <DirEntry 'gog'>,\n",
       " <DirEntry 'f1.ipynb'>]"
      ]
     },
     "execution_count": 46,
     "metadata": {},
     "output_type": "execute_result"
    }
   ],
   "source": [
    "[n for n in os.scandir(pathlib.Path(os.getcwd())) if os.path.isfile(os.path.join(os.getcwd(),n)) and os.access(n,os.EX_OK)]"
   ]
  },
  {
   "cell_type": "code",
   "execution_count": 51,
   "metadata": {},
   "outputs": [
    {
     "data": {
      "text/plain": [
       "posix.uname_result"
      ]
     },
     "execution_count": 51,
     "metadata": {},
     "output_type": "execute_result"
    }
   ],
   "source": [
    "type(os.uname())"
   ]
  },
  {
   "cell_type": "code",
   "execution_count": 52,
   "metadata": {},
   "outputs": [
    {
     "data": {
      "text/plain": [
       "posix.uname_result"
      ]
     },
     "execution_count": 52,
     "metadata": {},
     "output_type": "execute_result"
    }
   ],
   "source": [
    "os.uname_result"
   ]
  },
  {
   "cell_type": "code",
   "execution_count": 56,
   "metadata": {},
   "outputs": [
    {
     "data": {
      "text/plain": [
       "'3.10.0-1160.76.1.el7.x86_64'"
      ]
     },
     "execution_count": 56,
     "metadata": {},
     "output_type": "execute_result"
    }
   ],
   "source": [
    "os.uname()[2]"
   ]
  },
  {
   "cell_type": "code",
   "execution_count": 57,
   "metadata": {},
   "outputs": [
    {
     "data": {
      "text/plain": [
       "PosixPath('/app1/anaconda3/envs/praveen_tfu/lib/python3.6/os.py')"
      ]
     },
     "execution_count": 57,
     "metadata": {},
     "output_type": "execute_result"
    }
   ],
   "source": [
    "pathlib.Path(os.__file__)"
   ]
  },
  {
   "cell_type": "code",
   "execution_count": 59,
   "metadata": {},
   "outputs": [
    {
     "ename": "NameError",
     "evalue": "name '__file__' is not defined",
     "output_type": "error",
     "traceback": [
      "\u001b[0;31m---------------------------------------------------------------------------\u001b[0m",
      "\u001b[0;31mNameError\u001b[0m                                 Traceback (most recent call last)",
      "\u001b[0;32m<ipython-input-59-d3dc14011d01>\u001b[0m in \u001b[0;36m<module>\u001b[0;34m\u001b[0m\n\u001b[0;32m----> 1\u001b[0;31m \u001b[0mpathlib\u001b[0m\u001b[0;34m.\u001b[0m\u001b[0mPath\u001b[0m\u001b[0;34m(\u001b[0m\u001b[0m__file__\u001b[0m\u001b[0;34m)\u001b[0m\u001b[0;34m.\u001b[0m\u001b[0mparent\u001b[0m\u001b[0;34m\u001b[0m\u001b[0;34m\u001b[0m\u001b[0m\n\u001b[0m",
      "\u001b[0;31mNameError\u001b[0m: name '__file__' is not defined"
     ]
    }
   ],
   "source": [
    "pathlib.Path(__file__).parent"
   ]
  },
  {
   "cell_type": "code",
   "execution_count": null,
   "metadata": {},
   "outputs": [],
   "source": []
  }
 ],
 "metadata": {
  "kernelspec": {
   "display_name": "Python [conda env:praveen_tfu]",
   "language": "python",
   "name": "conda-env-praveen_tfu-py"
  },
  "language_info": {
   "codemirror_mode": {
    "name": "ipython",
    "version": 3
   },
   "file_extension": ".py",
   "mimetype": "text/x-python",
   "name": "python",
   "nbconvert_exporter": "python",
   "pygments_lexer": "ipython3",
   "version": "3.6.8"
  }
 },
 "nbformat": 4,
 "nbformat_minor": 4
}
